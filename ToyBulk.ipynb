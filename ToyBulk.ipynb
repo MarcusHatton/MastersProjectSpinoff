{
 "cells": [
  {
   "cell_type": "code",
   "execution_count": 8,
   "id": "55387fff",
   "metadata": {},
   "outputs": [],
   "source": [
    "import sympy"
   ]
  },
  {
   "cell_type": "code",
   "execution_count": 9,
   "id": "26dd2be1",
   "metadata": {},
   "outputs": [],
   "source": [
    "sympy.init_printing()"
   ]
  },
  {
   "cell_type": "code",
   "execution_count": 10,
   "id": "07e9b217",
   "metadata": {},
   "outputs": [],
   "source": [
    "from sympy.solvers.ode.systems import dsolve_system\n",
    "from sympy.solvers.pde import pdsolve"
   ]
  },
  {
   "cell_type": "code",
   "execution_count": 11,
   "id": "468d46a4",
   "metadata": {},
   "outputs": [],
   "source": [
    "x, t = sympy.symbols('x t')\n",
    "v = sympy.Function('v')\n",
    "Pi = sympy.Function('Pi')\n",
    "\n",
    "# for differencing systems\n",
    "v1 = sympy.Function('v1') \n",
    "v2 = sympy.Function('v2')\n",
    "Pi1 = sympy.Function('Pi1')\n",
    "Pi2 = sympy.Function('Pi2')\n",
    "\n",
    "zeta = sympy.symbols('zeta', positive=True)\n",
    "tau_Pi = sympy.symbols('tau_Pi', positive=True)\n",
    "U, eta = sympy.symbols('U eta')\n",
    "#U = 0\n",
    "#tau_Pi, zeta = 1, 1"
   ]
  },
  {
   "cell_type": "code",
   "execution_count": 12,
   "id": "86e87fbb",
   "metadata": {},
   "outputs": [],
   "source": [
    "import numpy as np\n",
    "from scipy.optimize import brentq, newton, minimize_scalar\n",
    "from scipy.integrate import solve_ivp, solve_bvp\n",
    "from scipy.special import erf\n",
    "import matplotlib.pyplot as plt"
   ]
  },
  {
   "cell_type": "code",
   "execution_count": 13,
   "id": "19bfb395",
   "metadata": {},
   "outputs": [
    {
     "data": {
      "image/png": "[encoded data removed]",
      "text/latex": [
       "$\\displaystyle 2 v{\\left(x,t \\right)} \\frac{\\partial}{\\partial x} v{\\left(x,t \\right)} + \\frac{\\partial}{\\partial t} v{\\left(x,t \\right)} = \\zeta \\frac{\\partial}{\\partial x} v{\\left(x,t \\right)}$"
      ],
      "text/plain": [
       "          ∂             ∂               ∂          \n",
       "2⋅v(x, t)⋅──(v(x, t)) + ──(v(x, t)) = ζ⋅──(v(x, t))\n",
       "          ∂x            ∂t              ∂x         "
      ]
     },
     "execution_count": 13,
     "metadata": {},
     "output_type": "execute_result"
    }
   ],
   "source": [
    "toy_bulk_limit = sympy.Eq(v(x,t).diff(t) + 2*v(x,t)*v(x,t).diff(x), zeta*v(x,t).diff(x))\n",
    "toy_bulk_limit"
   ]
  },
  {
   "cell_type": "code",
   "execution_count": 14,
   "id": "76c84a7a",
   "metadata": {},
   "outputs": [
    {
     "data": {
      "image/png": "[encoded data removed]",
      "text/latex": [
       "$\\displaystyle 2 v{\\left(x,t \\right)} \\frac{\\partial}{\\partial x} v{\\left(x,t \\right)} + \\frac{\\partial}{\\partial t} v{\\left(x,t \\right)} = \\tau_{\\Pi} \\zeta \\left(- v{\\left(x,t \\right)} \\frac{\\partial^{3}}{\\partial x^{3}} v{\\left(x,t \\right)} + \\frac{\\partial}{\\partial x} v{\\left(x,t \\right)} \\frac{\\partial^{2}}{\\partial x^{2}} v{\\left(x,t \\right)}\\right) + \\zeta \\frac{\\partial^{2}}{\\partial x^{2}} v{\\left(x,t \\right)}$"
      ],
      "text/plain": [
       "                                            ⎛            3                    \n",
       "          ∂             ∂                   ⎜           ∂             ∂       \n",
       "2⋅v(x, t)⋅──(v(x, t)) + ──(v(x, t)) = τ_Π⋅ζ⋅⎜- v(x, t)⋅───(v(x, t)) + ──(v(x, \n",
       "          ∂x            ∂t                  ⎜            3            ∂x      \n",
       "                                            ⎝          ∂x                     \n",
       "\n",
       "      2         ⎞       2         \n",
       "     ∂          ⎟      ∂          \n",
       "t))⋅───(v(x, t))⎟ + ζ⋅───(v(x, t))\n",
       "      2         ⎟       2         \n",
       "    ∂x          ⎠     ∂x          "
      ]
     },
     "execution_count": 14,
     "metadata": {},
     "output_type": "execute_result"
    }
   ],
   "source": [
    "toy_bulk_CE = sympy.Eq(v(x,t).diff(t) + 2*v(x,t)*v(x,t).diff(x), zeta*v(x,t).diff(x,2) + tau_Pi*zeta*(v(x,t).diff(x)*v(x,t).diff(x,2) - v(x,t)*v(x,t).diff(x,3)) )\n",
    "toy_bulk_CE"
   ]
  },
  {
   "cell_type": "code",
   "execution_count": 15,
   "id": "a8508036",
   "metadata": {},
   "outputs": [],
   "source": [
    "# result = pdsolve(toy_bulk_limit)"
   ]
  },
  {
   "cell_type": "code",
   "execution_count": 16,
   "id": "4fbbfcdd",
   "metadata": {},
   "outputs": [
    {
     "data": {
      "image/png": "[encoded data removed]",
      "text/latex": [
       "$\\displaystyle U \\frac{d}{d \\eta} v{\\left(\\eta \\right)} = 2 v{\\left(\\eta \\right)} \\frac{d}{d \\eta} v{\\left(\\eta \\right)} + \\frac{d}{d \\eta} \\Pi{\\left(\\eta \\right)}$"
      ],
      "text/plain": [
       "  d                 d          d       \n",
       "U⋅──(v(η)) = 2⋅v(η)⋅──(v(η)) + ──(Π(η))\n",
       "  dη                dη         dη      "
      ]
     },
     "execution_count": 16,
     "metadata": {},
     "output_type": "execute_result"
    }
   ],
   "source": [
    "eq_213a_eta = sympy.Eq(U*v(eta).diff(eta),2*v(eta)*v(eta).diff(eta) + Pi(eta).diff(eta))\n",
    "expr_213a_eta = U*v(eta).diff(eta) - 2*v(eta)*v(eta).diff(eta) - Pi(eta).diff(eta)\n",
    "eq_213a_eta"
   ]
  },
  {
   "cell_type": "code",
   "execution_count": 17,
   "id": "31be53be",
   "metadata": {},
   "outputs": [
    {
     "data": {
      "image/png": "[encoded data removed]",
      "text/latex": [
       "$\\displaystyle \\tau_{\\Pi} \\left(U \\frac{d}{d \\eta} \\Pi{\\left(\\eta \\right)} - \\Pi{\\left(\\eta \\right)} \\frac{d}{d \\eta} v{\\left(\\eta \\right)} - v{\\left(\\eta \\right)} \\frac{d}{d \\eta} \\Pi{\\left(\\eta \\right)}\\right) = \\zeta \\left(\\Pi{\\left(\\eta \\right)} + \\frac{d}{d \\eta} v{\\left(\\eta \\right)}\\right)$"
      ],
      "text/plain": [
       "    ⎛  d               d               d       ⎞     ⎛       d       ⎞\n",
       "τ_Π⋅⎜U⋅──(Π(η)) - Π(η)⋅──(v(η)) - v(η)⋅──(Π(η))⎟ = ζ⋅⎜Π(η) + ──(v(η))⎟\n",
       "    ⎝  dη              dη              dη      ⎠     ⎝       dη      ⎠"
      ]
     },
     "execution_count": 17,
     "metadata": {},
     "output_type": "execute_result"
    }
   ],
   "source": [
    "eq_213b_eta = sympy.Eq(tau_Pi*(U*Pi(eta).diff(eta) - Pi(eta)*v(eta).diff(eta) - v(eta)*Pi(eta).diff(eta)),\n",
    "                       zeta*(v(eta).diff(eta) + Pi(eta)))\n",
    "expr_213b_eta = tau_Pi*(U*Pi(eta).diff(eta) - Pi(eta)*v(eta).diff(eta) - v(eta)*Pi(eta).diff(eta)) - zeta*(v(eta).diff(eta) + Pi(eta))\n",
    "\n",
    "eq_213b_eta"
   ]
  },
  {
   "cell_type": "code",
   "execution_count": 18,
   "id": "c7c00389",
   "metadata": {},
   "outputs": [
    {
     "data": {
      "image/png": "[encoded data removed]",
      "text/latex": [
       "$\\displaystyle \\zeta \\left(\\left(- U + 2 v{\\left(\\eta \\right)}\\right) \\frac{d}{d \\eta} v{\\left(\\eta \\right)} - \\frac{d^{2}}{d \\eta^{2}} v{\\left(\\eta \\right)}\\right) = \\tau_{\\Pi} \\left(v{\\left(\\eta \\right)} \\frac{d^{3}}{d \\eta^{3}} v{\\left(\\eta \\right)} + \\frac{d}{d \\eta} v{\\left(\\eta \\right)} \\frac{d^{2}}{d \\eta^{2}} v{\\left(\\eta \\right)}\\right)$"
      ],
      "text/plain": [
       "  ⎛                           2      ⎞       ⎛       3                    2   \n",
       "  ⎜              d           d       ⎟       ⎜      d          d         d    \n",
       "ζ⋅⎜(-U + 2⋅v(η))⋅──(v(η)) - ───(v(η))⎟ = τ_Π⋅⎜v(η)⋅───(v(η)) + ──(v(η))⋅───(v(\n",
       "  ⎜              dη           2      ⎟       ⎜       3         dη         2   \n",
       "  ⎝                         dη       ⎠       ⎝     dη                   dη    \n",
       "\n",
       "   ⎞\n",
       "   ⎟\n",
       "η))⎟\n",
       "   ⎟\n",
       "   ⎠"
      ]
     },
     "execution_count": 18,
     "metadata": {},
     "output_type": "execute_result"
    }
   ],
   "source": [
    "eq_216_eta = sympy.Eq(zeta*((2*v(eta) - U)*v(eta).diff(eta) - v(eta).diff(eta,2)), tau_Pi*(v(eta).diff(eta)*v(eta).diff(eta,2)\n",
    "                                                                                          + v(eta)*v(eta).diff(eta,3)))\n",
    "expr_216_eta = zeta*((2*v(eta) - U)*v(eta).diff(eta) - v(eta).diff(eta,2)) - tau_Pi*(v(eta).diff(eta)*v(eta).diff(eta,2)\n",
    "                                                                                          + v(eta)*v(eta).diff(eta,3))\n",
    "eq_216_eta"
   ]
  },
  {
   "cell_type": "code",
   "execution_count": 19,
   "id": "bba61cdb",
   "metadata": {},
   "outputs": [
    {
     "data": {
      "image/png": "[encoded data removed]",
      "text/latex": [
       "$\\displaystyle \\left( \\left[ U \\frac{d}{d \\eta} v{\\left(\\eta \\right)} = 2 v{\\left(\\eta \\right)} \\frac{d}{d \\eta} v{\\left(\\eta \\right)} + \\frac{d}{d \\eta} \\Pi{\\left(\\eta \\right)}, \\  \\tau_{\\Pi} \\left(U \\frac{d}{d \\eta} \\Pi{\\left(\\eta \\right)} - \\Pi{\\left(\\eta \\right)} \\frac{d}{d \\eta} v{\\left(\\eta \\right)} - v{\\left(\\eta \\right)} \\frac{d}{d \\eta} \\Pi{\\left(\\eta \\right)}\\right) = \\zeta \\left(\\Pi{\\left(\\eta \\right)} + \\frac{d}{d \\eta} v{\\left(\\eta \\right)}\\right)\\right], \\  \\left[ \\zeta \\left(\\left(- U + 2 v{\\left(\\eta \\right)}\\right) \\frac{d}{d \\eta} v{\\left(\\eta \\right)} - \\frac{d^{2}}{d \\eta^{2}} v{\\left(\\eta \\right)}\\right) = \\tau_{\\Pi} \\left(v{\\left(\\eta \\right)} \\frac{d^{3}}{d \\eta^{3}} v{\\left(\\eta \\right)} + \\frac{d}{d \\eta} v{\\left(\\eta \\right)} \\frac{d^{2}}{d \\eta^{2}} v{\\left(\\eta \\right)}\\right), \\  \\tau_{\\Pi} \\left(U \\frac{d}{d \\eta} \\Pi{\\left(\\eta \\right)} - \\Pi{\\left(\\eta \\right)} \\frac{d}{d \\eta} v{\\left(\\eta \\right)} - v{\\left(\\eta \\right)} \\frac{d}{d \\eta} \\Pi{\\left(\\eta \\right)}\\right) = \\zeta \\left(\\Pi{\\left(\\eta \\right)} + \\frac{d}{d \\eta} v{\\left(\\eta \\right)}\\right)\\right]\\right)$"
      ],
      "text/plain": [
       "⎛                                                                             \n",
       "⎜⎡  d                 d          d             ⎛  d               d           \n",
       "⎜⎢U⋅──(v(η)) = 2⋅v(η)⋅──(v(η)) + ──(Π(η)), τ_Π⋅⎜U⋅──(Π(η)) - Π(η)⋅──(v(η)) - v\n",
       "⎜⎣  dη                dη         dη            ⎝  dη              dη          \n",
       "⎝                                                                             \n",
       "\n",
       "                                      ⎡  ⎛                           2      ⎞ \n",
       "    d       ⎞     ⎛       d       ⎞⎤  ⎢  ⎜              d           d       ⎟ \n",
       "(η)⋅──(Π(η))⎟ = ζ⋅⎜Π(η) + ──(v(η))⎟⎥, ⎢ζ⋅⎜(-U + 2⋅v(η))⋅──(v(η)) - ───(v(η))⎟ \n",
       "    dη      ⎠     ⎝       dη      ⎠⎦  ⎢  ⎜              dη           2      ⎟ \n",
       "                                      ⎣  ⎝                         dη       ⎠ \n",
       "\n",
       "      ⎛       3                    2      ⎞                                   \n",
       "      ⎜      d          d         d       ⎟      ⎛  d               d         \n",
       "= τ_Π⋅⎜v(η)⋅───(v(η)) + ──(v(η))⋅───(v(η))⎟, τ_Π⋅⎜U⋅──(Π(η)) - Π(η)⋅──(v(η)) -\n",
       "      ⎜       3         dη         2      ⎟      ⎝  dη              dη        \n",
       "      ⎝     dη                   dη       ⎠                                   \n",
       "\n",
       "                                     ⎤⎞\n",
       "      d       ⎞     ⎛       d       ⎞⎥⎟\n",
       " v(η)⋅──(Π(η))⎟ = ζ⋅⎜Π(η) + ──(v(η))⎟⎥⎟\n",
       "      dη      ⎠     ⎝       dη      ⎠⎥⎟\n",
       "                                     ⎦⎠"
      ]
     },
     "execution_count": 19,
     "metadata": {},
     "output_type": "execute_result"
    }
   ],
   "source": [
    "sys1 = [eq_213a_eta, eq_213b_eta]\n",
    "sys2 = [eq_216_eta, eq_213b_eta]\n",
    "sys1, sys2"
   ]
  },
  {
   "cell_type": "code",
   "execution_count": 20,
   "id": "51c5407e",
   "metadata": {},
   "outputs": [],
   "source": [
    "# sys_diff = [eq_213a_eta - eq_213a_eta, eq_213b_eta - eq_216_eta]\n",
    "# sys_diff ... nope"
   ]
  },
  {
   "cell_type": "code",
   "execution_count": 21,
   "id": "e70272b8",
   "metadata": {},
   "outputs": [
    {
     "data": {
      "image/png": "[encoded data removed]",
      "text/latex": [
       "$\\displaystyle \\left[ v{\\left(\\eta \\right)}, \\  \\Pi{\\left(\\eta \\right)}\\right]$"
      ],
      "text/plain": [
       "[v(η), Π(η)]"
      ]
     },
     "execution_count": 21,
     "metadata": {},
     "output_type": "execute_result"
    }
   ],
   "source": [
    "vars = [v(eta),Pi(eta)]\n",
    "vars"
   ]
  },
  {
   "cell_type": "code",
   "execution_count": 22,
   "id": "2bcfa5fd",
   "metadata": {},
   "outputs": [],
   "source": [
    "# result = dsolve_system(sys1, vars, t=eta)"
   ]
  },
  {
   "cell_type": "code",
   "execution_count": 23,
   "id": "7260bf47",
   "metadata": {},
   "outputs": [
    {
     "name": "stdout",
     "output_type": "stream",
     "text": [
      "Wavespeeds for sys1 are given by (3v/2)+_sqrt((v/2)**2 + Pi + (zeta/tauPi))\n"
     ]
    }
   ],
   "source": [
    "print(\"Wavespeeds for sys1 are given by (3v/2)+_sqrt((v/2)**2 + Pi + (zeta/tauPi))\")"
   ]
  },
  {
   "cell_type": "code",
   "execution_count": 24,
   "id": "d18499a6",
   "metadata": {},
   "outputs": [
    {
     "data": {
      "image/png": "[encoded data removed]",
      "text/latex": [
       "$\\displaystyle Expr\\left(- \\sqrt{\\Pi{\\left(\\eta \\right)} + \\frac{v^{2}{\\left(\\eta \\right)}}{4} + \\frac{\\zeta}{\\tau_{\\Pi}}} + \\frac{3 v{\\left(\\eta \\right)}}{2}\\right)$"
      ],
      "text/plain": [
       "Expr(-sqrt(Pi(eta) + v(eta)**2/4 + zeta/tau_Pi) + 3*v(eta)/2)"
      ]
     },
     "execution_count": 24,
     "metadata": {},
     "output_type": "execute_result"
    }
   ],
   "source": [
    "wavespeeds = sympy.Expr(3*v(eta)/2 +- sympy.sqrt((v(eta)/2)**2 + Pi(eta) + (zeta/tau_Pi)))\n",
    "wavespeeds"
   ]
  },
  {
   "cell_type": "code",
   "execution_count": 25,
   "id": "513128a4",
   "metadata": {},
   "outputs": [
    {
     "name": "stdout",
     "output_type": "stream",
     "text": [
      "Cannot solve systems independently and simple differencing doesn't work so going to make substitutions for v=v1 or v2, Pi=Pi1 or Pi2 etc. and at present keep U1=U2\n"
     ]
    }
   ],
   "source": [
    "print(\"Cannot solve systems independently and simple differencing doesn't work so going to make substitutions for \" \n",
    "      \"v=v1 or v2, Pi=Pi1 or Pi2 etc. and at present keep U=U1=U2\")"
   ]
  },
  {
   "cell_type": "code",
   "execution_count": 26,
   "id": "b4fcf170",
   "metadata": {},
   "outputs": [
    {
     "name": "stderr",
     "output_type": "stream",
     "text": [
      "D:\\Users\\marcus\\anaconda3\\lib\\site-packages\\sympy\\core\\relational.py:495: SymPyDeprecationWarning: \n",
      "\n",
      "Eq(expr) with rhs default to 0 has been deprecated since SymPy 1.5.\n",
      "Use Eq(expr, 0) instead. See\n",
      "https://github.com/sympy/sympy/issues/16587 for more info.\n",
      "\n",
      "  SymPyDeprecationWarning(\n"
     ]
    },
    {
     "data": {
      "image/png": "[encoded data removed]",
      "text/latex": [
       "$\\displaystyle Expr\\left(U \\frac{d}{d \\eta} \\operatorname{v_{1}}{\\left(\\eta \\right)} = 2 \\operatorname{v_{1}}{\\left(\\eta \\right)} \\frac{d}{d \\eta} \\operatorname{v_{1}}{\\left(\\eta \\right)} + \\frac{d}{d \\eta} \\Pi_{1}{\\left(\\eta \\right)}\\right) - Expr\\left(\\zeta \\left(\\left(- U + 2 \\operatorname{v_{2}}{\\left(\\eta \\right)}\\right) \\frac{d}{d \\eta} \\operatorname{v_{2}}{\\left(\\eta \\right)} - \\frac{d^{2}}{d \\eta^{2}} \\operatorname{v_{2}}{\\left(\\eta \\right)}\\right) = \\tau_{\\Pi} \\left(\\operatorname{v_{2}}{\\left(\\eta \\right)} \\frac{d^{3}}{d \\eta^{3}} \\operatorname{v_{2}}{\\left(\\eta \\right)} + \\frac{d}{d \\eta} \\operatorname{v_{2}}{\\left(\\eta \\right)} \\frac{d^{2}}{d \\eta^{2}} \\operatorname{v_{2}}{\\left(\\eta \\right)}\\right)\\right) = 0$"
      ],
      "text/plain": [
       "Expr(Eq(U*Derivative(v1(eta), eta), 2*v1(eta)*Derivative(v1(eta), eta) + Deriv\n",
       "ative(Pi1(eta), eta))) - Expr(Eq(zeta*((-U + 2*v2(eta))*Derivative(v2(eta), et\n",
       "a) - Derivative(v2(eta), (eta, 2))), tau_Pi*(v2(eta)*Derivative(v2(eta), (eta,\n",
       " 3)) + Derivative(v2(eta), eta)*Derivative(v2(eta), (eta, 2))))) = 0"
      ]
     },
     "execution_count": 26,
     "metadata": {},
     "output_type": "execute_result"
    }
   ],
   "source": [
    "sympy.Eq(sympy.Expr(eq_213a_eta.subs(v(eta),v1(eta)).subs(Pi(eta),Pi1(eta))) - sympy.Expr(eq_216_eta.subs(v(eta),v2(eta)).subs(Pi(eta),Pi2(eta))))"
   ]
  },
  {
   "cell_type": "code",
   "execution_count": 27,
   "id": "9a942eb4",
   "metadata": {},
   "outputs": [
    {
     "data": {
      "image/png": "[encoded data removed]",
      "text/latex": [
       "$\\displaystyle \\left[ U \\frac{d}{d \\eta} v{\\left(\\eta \\right)} + \\tau_{\\Pi} \\left(v{\\left(\\eta \\right)} \\frac{d^{3}}{d \\eta^{3}} v{\\left(\\eta \\right)} + \\frac{d}{d \\eta} v{\\left(\\eta \\right)} \\frac{d^{2}}{d \\eta^{2}} v{\\left(\\eta \\right)}\\right) + \\zeta \\left(\\left(U - 2 v{\\left(\\eta \\right)}\\right) \\frac{d}{d \\eta} v{\\left(\\eta \\right)} + \\frac{d^{2}}{d \\eta^{2}} v{\\left(\\eta \\right)}\\right) - 2 v{\\left(\\eta \\right)} \\frac{d}{d \\eta} v{\\left(\\eta \\right)} - \\frac{d}{d \\eta} \\Pi{\\left(\\eta \\right)}, \\  0\\right]$"
      ],
      "text/plain": [
       "⎡                 ⎛       3                    2      ⎞     ⎛                 \n",
       "⎢  d              ⎜      d          d         d       ⎟     ⎜             d   \n",
       "⎢U⋅──(v(η)) + τ_Π⋅⎜v(η)⋅───(v(η)) + ──(v(η))⋅───(v(η))⎟ + ζ⋅⎜(U - 2⋅v(η))⋅──(v\n",
       "⎢  dη             ⎜       3         dη         2      ⎟     ⎜             dη  \n",
       "⎣                 ⎝     dη                   dη       ⎠     ⎝                 \n",
       "\n",
       "         2      ⎞                                ⎤\n",
       "        d       ⎟          d          d          ⎥\n",
       "(η)) + ───(v(η))⎟ - 2⋅v(η)⋅──(v(η)) - ──(Π(η)), 0⎥\n",
       "         2      ⎟          dη         dη         ⎥\n",
       "       dη       ⎠                                ⎦"
      ]
     },
     "execution_count": 27,
     "metadata": {},
     "output_type": "execute_result"
    }
   ],
   "source": [
    "sys_diff = [(expr_213a_eta - expr_216_eta).simplify(),\n",
    "            (expr_213b_eta - expr_213b_eta).simplify()]\n",
    "sys_diff"
   ]
  },
  {
   "cell_type": "code",
   "execution_count": 28,
   "id": "3489ffff",
   "metadata": {},
   "outputs": [
    {
     "data": {
      "image/png": "[encoded data removed]",
      "text/latex": [
       "$\\displaystyle \\left[ U \\frac{d}{d \\eta} \\operatorname{v_{1}}{\\left(\\eta \\right)} + \\tau_{\\Pi} \\left(\\operatorname{v_{2}}{\\left(\\eta \\right)} \\frac{d^{3}}{d \\eta^{3}} \\operatorname{v_{2}}{\\left(\\eta \\right)} + \\frac{d}{d \\eta} \\operatorname{v_{2}}{\\left(\\eta \\right)} \\frac{d^{2}}{d \\eta^{2}} \\operatorname{v_{2}}{\\left(\\eta \\right)}\\right) - \\zeta \\left(\\left(- U + 2 \\operatorname{v_{2}}{\\left(\\eta \\right)}\\right) \\frac{d}{d \\eta} \\operatorname{v_{2}}{\\left(\\eta \\right)} - \\frac{d^{2}}{d \\eta^{2}} \\operatorname{v_{2}}{\\left(\\eta \\right)}\\right) - 2 \\operatorname{v_{1}}{\\left(\\eta \\right)} \\frac{d}{d \\eta} \\operatorname{v_{1}}{\\left(\\eta \\right)} - \\frac{d}{d \\eta} \\Pi_{1}{\\left(\\eta \\right)}, \\  \\tau_{\\Pi} \\left(U \\frac{d}{d \\eta} \\Pi_{1}{\\left(\\eta \\right)} - \\Pi_{1}{\\left(\\eta \\right)} \\frac{d}{d \\eta} \\operatorname{v_{1}}{\\left(\\eta \\right)} - \\operatorname{v_{1}}{\\left(\\eta \\right)} \\frac{d}{d \\eta} \\Pi_{1}{\\left(\\eta \\right)}\\right) - \\tau_{\\Pi} \\left(U \\frac{d}{d \\eta} \\Pi_{2}{\\left(\\eta \\right)} - \\Pi_{2}{\\left(\\eta \\right)} \\frac{d}{d \\eta} \\operatorname{v_{2}}{\\left(\\eta \\right)} - \\operatorname{v_{2}}{\\left(\\eta \\right)} \\frac{d}{d \\eta} \\Pi_{2}{\\left(\\eta \\right)}\\right) - \\zeta \\left(\\Pi_{1}{\\left(\\eta \\right)} + \\frac{d}{d \\eta} \\operatorname{v_{1}}{\\left(\\eta \\right)}\\right) + \\zeta \\left(\\Pi_{2}{\\left(\\eta \\right)} + \\frac{d}{d \\eta} \\operatorname{v_{2}}{\\left(\\eta \\right)}\\right)\\right]$"
      ],
      "text/plain": [
       "⎡                  ⎛        3                      2       ⎞     ⎛            \n",
       "⎢  d               ⎜       d           d          d        ⎟     ⎜            \n",
       "⎢U⋅──(v₁(η)) + τ_Π⋅⎜v₂(η)⋅───(v₂(η)) + ──(v₂(η))⋅───(v₂(η))⎟ - ζ⋅⎜(-U + 2⋅v₂(η\n",
       "⎢  dη              ⎜        3          dη          2       ⎟     ⎜            \n",
       "⎣                  ⎝      dη                     dη        ⎠     ⎝            \n",
       "\n",
       "                 2       ⎞                                                    \n",
       "   d            d        ⎟           d           d              ⎛  d          \n",
       "))⋅──(v₂(η)) - ───(v₂(η))⎟ - 2⋅v₁(η)⋅──(v₁(η)) - ──(Π₁(η)), τ_Π⋅⎜U⋅──(Π₁(η)) -\n",
       "   dη            2       ⎟           dη          dη             ⎝  dη         \n",
       "               dη        ⎠                                                    \n",
       "\n",
       "                                                                              \n",
       "       d                 d        ⎞       ⎛  d                 d              \n",
       " Π₁(η)⋅──(v₁(η)) - v₁(η)⋅──(Π₁(η))⎟ - τ_Π⋅⎜U⋅──(Π₂(η)) - Π₂(η)⋅──(v₂(η)) - v₂(\n",
       "       dη                dη       ⎠       ⎝  dη                dη             \n",
       "                                                                              \n",
       "\n",
       "                                                             ⎤\n",
       "   d        ⎞     ⎛        d        ⎞     ⎛        d        ⎞⎥\n",
       "η)⋅──(Π₂(η))⎟ - ζ⋅⎜Π₁(η) + ──(v₁(η))⎟ + ζ⋅⎜Π₂(η) + ──(v₂(η))⎟⎥\n",
       "   dη       ⎠     ⎝        dη       ⎠     ⎝        dη       ⎠⎥\n",
       "                                                             ⎦"
      ]
     },
     "execution_count": 28,
     "metadata": {},
     "output_type": "execute_result"
    }
   ],
   "source": [
    "sys_diff = [expr_213a_eta.subs(v(eta),v1(eta)).subs(Pi(eta),Pi1(eta)) - expr_216_eta.subs(v(eta),v2(eta)).subs(Pi(eta),Pi2(eta)),\n",
    "            expr_213b_eta.subs(v(eta),v1(eta)).subs(Pi(eta),Pi1(eta)) - expr_213b_eta.subs(v(eta),v2(eta)).subs(Pi(eta),Pi2(eta))]\n",
    "sys_diff"
   ]
  },
  {
   "cell_type": "code",
   "execution_count": null,
   "id": "67c2ca18",
   "metadata": {},
   "outputs": [],
   "source": []
  }
 ],
 "metadata": {
  "kernelspec": {
   "display_name": "Python 3",
   "language": "python",
   "name": "python3"
  },
  "language_info": {
   "codemirror_mode": {
    "name": "ipython",
    "version": 3
   },
   "file_extension": ".py",
   "mimetype": "text/x-python",
   "name": "python",
   "nbconvert_exporter": "python",
   "pygments_lexer": "ipython3",
   "version": "3.8.10"
  }
 },
 "nbformat": 4,
 "nbformat_minor": 5
}
