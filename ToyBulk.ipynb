{
 "cells": [
  {
   "cell_type": "code",
   "execution_count": 2,
   "id": "55387fff",
   "metadata": {},
   "outputs": [],
   "source": [
    "import sympy"
   ]
  },
  {
   "cell_type": "code",
   "execution_count": 3,
   "id": "26dd2be1",
   "metadata": {},
   "outputs": [],
   "source": [
    "sympy.init_printing()"
   ]
  },
  {
   "cell_type": "code",
   "execution_count": null,
   "id": "87531a34",
   "metadata": {},
   "outputs": [],
   "source": []
  },
  {
   "cell_type": "code",
   "execution_count": 4,
   "id": "468d46a4",
   "metadata": {},
   "outputs": [],
   "source": [
    "x, t = sympy.symbols('x t')\n",
    "v = sympy.Function('v')\n",
    "Pi = sympy.Function('Pi')\n",
    "zeta = sympy.symbols('zeta', positive=True)\n",
    "tau_Pi = sympy.symbols('tau_Pi', positive=True)\n",
    "U = sympy.symbols('U')"
   ]
  },
  {
   "cell_type": "code",
   "execution_count": 5,
   "id": "86e87fbb",
   "metadata": {},
   "outputs": [],
   "source": [
    "import numpy as np\n",
    "from scipy.optimize import brentq, newton, minimize_scalar\n",
    "from scipy.integrate import solve_ivp, solve_bvp\n",
    "from scipy.special import erf\n",
    "import matplotlib.pyplot as plt"
   ]
  },
  {
   "cell_type": "code",
   "execution_count": 6,
   "id": "19bfb395",
   "metadata": {},
   "outputs": [
    {
     "data": {
      "image/png": "[encoded data removed]",
      "text/latex": [
       "$\\displaystyle 2 v{\\left(x,t \\right)} \\frac{\\partial}{\\partial x} v{\\left(x,t \\right)} + \\frac{\\partial}{\\partial t} v{\\left(x,t \\right)} = \\zeta \\frac{\\partial}{\\partial x} v{\\left(x,t \\right)}$"
      ],
      "text/plain": [
       "          ∂             ∂               ∂          \n",
       "2⋅v(x, t)⋅──(v(x, t)) + ──(v(x, t)) = ζ⋅──(v(x, t))\n",
       "          ∂x            ∂t              ∂x         "
      ]
     },
     "execution_count": 6,
     "metadata": {},
     "output_type": "execute_result"
    }
   ],
   "source": [
    "toy_bulk_limit = sympy.Eq(v(x,t).diff(t) + 2*v(x,t)*v(x,t).diff(x), zeta*v(x,t).diff(x))\n",
    "toy_bulk_limit"
   ]
  },
  {
   "cell_type": "code",
   "execution_count": 7,
   "id": "76c84a7a",
   "metadata": {},
   "outputs": [
    {
     "data": {
      "image/png": "[encoded data removed]",
      "text/latex": [
       "$\\displaystyle 2 v{\\left(x,t \\right)} \\frac{\\partial}{\\partial x} v{\\left(x,t \\right)} + \\frac{\\partial}{\\partial t} v{\\left(x,t \\right)} = \\tau_{\\Pi} \\zeta \\left(- v{\\left(x,t \\right)} \\frac{\\partial^{3}}{\\partial x^{3}} v{\\left(x,t \\right)} + \\frac{\\partial}{\\partial x} v{\\left(x,t \\right)} \\frac{\\partial^{2}}{\\partial x^{2}} v{\\left(x,t \\right)}\\right) + \\zeta \\frac{\\partial^{2}}{\\partial x^{2}} v{\\left(x,t \\right)}$"
      ],
      "text/plain": [
       "                                            ⎛            3                    \n",
       "          ∂             ∂                   ⎜           ∂             ∂       \n",
       "2⋅v(x, t)⋅──(v(x, t)) + ──(v(x, t)) = τ_Π⋅ζ⋅⎜- v(x, t)⋅───(v(x, t)) + ──(v(x, \n",
       "          ∂x            ∂t                  ⎜            3            ∂x      \n",
       "                                            ⎝          ∂x                     \n",
       "\n",
       "      2         ⎞       2         \n",
       "     ∂          ⎟      ∂          \n",
       "t))⋅───(v(x, t))⎟ + ζ⋅───(v(x, t))\n",
       "      2         ⎟       2         \n",
       "    ∂x          ⎠     ∂x          "
      ]
     },
     "execution_count": 7,
     "metadata": {},
     "output_type": "execute_result"
    }
   ],
   "source": [
    "toy_bulk_CE = sympy.Eq(v(x,t).diff(t) + 2*v(x,t)*v(x,t).diff(x), zeta*v(x,t).diff(x,2) + tau_Pi*zeta*(v(x,t).diff(x)*v(x,t).diff(x,2) - v(x,t)*v(x,t).diff(x,3)) )\n",
    "toy_bulk_CE"
   ]
  },
  {
   "cell_type": "code",
   "execution_count": 8,
   "id": "4fbbfcdd",
   "metadata": {},
   "outputs": [],
   "source": [
    "eq_213a = sympy.Eq(U*v(x,t).diff(t),2*v(x,t)*v(x,t).diff(x) + Pi(x,t).diff(x))\n",
    "eq_213a"
   ]
  },
  {
   "cell_type": "code",
   "execution_count": null,
   "id": "dfe8c93d",
   "metadata": {},
   "outputs": [],
   "source": [
    "eq_213b = sympy.Eq(U*v(x,t).diff(t),2*v(x,t)*v(x,t).diff(x) + Pi(x,t).diff(x))\n",
    "eq_213b"
   ]
  },
  {
   "cell_type": "code",
   "execution_count": null,
   "id": "6881180d",
   "metadata": {},
   "outputs": [],
   "source": []
  }
 ],
 "metadata": {
  "kernelspec": {
   "display_name": "Python 3",
   "language": "python",
   "name": "python3"
  },
  "language_info": {
   "codemirror_mode": {
    "name": "ipython",
    "version": 3
   },
   "file_extension": ".py",
   "mimetype": "text/x-python",
   "name": "python",
   "nbconvert_exporter": "python",
   "pygments_lexer": "ipython3",
   "version": "3.8.8"
  }
 },
 "nbformat": 4,
 "nbformat_minor": 5
}
