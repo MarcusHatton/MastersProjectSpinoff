{
 "cells": [
  {
   "cell_type": "markdown",
   "id": "bbd916f1",
   "metadata": {},
   "source": [
    "# Ideas for solving the viscous profile"
   ]
  },
  {
   "cell_type": "markdown",
   "id": "97abd24f",
   "metadata": {},
   "source": [
    "We are considering the problem\n",
    "$$\n",
    "\\partial_t q + \\partial_x f(q) = \\kappa \\partial_{xx} q\n",
    "$$\n",
    "where $\\kappa > 0$. We want to look for a viscous, or travelling wave, profile, where the solution is given by\n",
    "$$\n",
    "q(t, x) \\equiv Q \\left( \\frac{x - V t}{\\kappa} \\right) \\equiv Q(\\xi).\n",
    "$$\n",
    "This converts the equation of motion to the second order ODE\n",
    "$$\n",
    "\\left( \\partial_q f - V \\right) Q' = Q''.\n",
    "$$\n",
    "We also need to impose the boundary conditions\n",
    "$$\n",
    "\\begin{aligned}\n",
    "  \\lim_{\\xi \\to -\\infty} Q(\\xi) & = q_L, \\\\\n",
    "  \\lim_{\\xi \\to +\\infty} Q(\\xi) & = q_R, \\\\\n",
    "  \\lim_{|\\xi| \\to \\infty} Q'(\\xi) & = 0.\n",
    "\\end{aligned}\n",
    "$$\n",
    "With these boundary conditions the solution in the vanishing viscosity limit $\\kappa \\to 0_+$ will give the Rankine-Hugoniot conditions."
   ]
  },
  {
   "cell_type": "markdown",
   "id": "4536e9e7",
   "metadata": {},
   "source": [
    "At this stage the problem is not well-posed. We have a second order ODE with a single unknown parameter $V$, the speed of the travelling wave. However, we have four boundary conditions. Generalising to a system of size $n$, we will have $2n$ integration constants plus the value of $V$ that need fixing and $4n$ boundary conditions."
   ]
  },
  {
   "cell_type": "markdown",
   "id": "b0e8c928",
   "metadata": {},
   "source": [
    "## Steps"
   ]
  },
  {
   "cell_type": "markdown",
   "id": "38cb9fe1",
   "metadata": {},
   "source": [
    "As a first step we note that the ODE is unchanged if we translate it, $\\xi \\to \\xi + A$. We can therefore impose one additional condition in order to fix this translation constant. For example, we can impose\n",
    "$$\n",
    "Q(0) = (q_L + q_R) / 2.\n",
    "$$\n",
    "Intuitively this \"centres\" the profile within the domain."
   ]
  },
  {
   "cell_type": "markdown",
   "id": "16d8c57c",
   "metadata": {},
   "source": [
    "As a second step we can change coordinates via a compactification. This should lead to a singular boundary value problem and hence incorporate the derivative boundary conditions in automatically.\n",
    "\n",
    "Explicitly, introduce\n",
    "$$\n",
    "z_{\\pm} = \\pm \\frac{\\xi}{1 \\pm \\xi}.\n",
    "$$\n",
    "We have that $\\xi = 0 \\iff z_{\\pm} = 0$, $\\xi \\to +\\infty \\iff z_+ \\to 1$, and $\\xi \\to -\\infty \\iff z_- \\to 1$. Therefore both $z_{\\pm} \\in [0, 1)$, and together they cover the full range of $\\xi$.\n",
    "\n",
    "Note that\n",
    "$$\n",
    "\\xi = \\pm \\frac{z_{\\pm}}{1 - z_{\\pm}}.\n",
    "$$\n",
    "\n",
    "We now change variable. Write (for example) $Q = Q(z_+)$. We have\n",
    "$$\n",
    "\\partial_\\xi = \\frac{\\partial z_+}{\\partial \\xi} \\partial_{z_+} = \\frac{1}{(1+\\xi)^2} \\partial_{z_+} = (1 - z_+)^2 \\partial_{z_+}.\n",
    "$$\n",
    "This means the ODE becomes, for $\\xi \\in [0, \\infty) \\iff z_+ \\in [0, 1)$,\n",
    "$$\n",
    "\\left( \\partial_q f - V + 2 (1 - z_+) \\right) Q' = (1 - z_+)^2 Q'',\n",
    "$$\n",
    "where the primes should now be interpreted as derivatives with respect to $z_+$. Similary, the ODE becomes, for $\\xi \\in (-\\infty, 0] \\iff z_- \\in [0, 1)$,\n",
    "$$\n",
    "\\left( \\partial_q f - V - 2 (1 - z_-) \\right) Q' = -(1 - z_-)^2 Q'',\n",
    "$$\n",
    "where the primes should now be interpreted as derivatives with respect to $z_-$."
   ]
  },
  {
   "cell_type": "markdown",
   "id": "ff6f286e",
   "metadata": {},
   "source": [
    "We now write (with some abuse of notation)\n",
    "$$\n",
    "Q = \\begin{cases} Q_+(z_+) & \\xi > 0, \\\\ Q_-(z_-) & \\xi < 0. \\end{cases}\n",
    "$$\n",
    "The system of ODEs now becomes, in first order form,\n",
    "$$\n",
    "\\begin{aligned}\n",
    "  Q_+' &= R_+ \\\\\n",
    "  Q_-' &= R_- \\\\\n",
    "  (1 - z)^2 R_+' &= \\left( \\partial_q f - V + 2 ( 1 - z ) \\right) R_+ \\\\\n",
    "  -(1 - z)^2 R_-' &= \\left( \\partial_q f - V - 2 ( 1 - z ) \\right) R_-.\n",
    "\\end{aligned}\n",
    "$$\n",
    "All primes are derivatives with respect to $z$; we have identified $z_{\\pm}$ with $z$ as the ranges match. The boundary conditions are\n",
    "$$\n",
    "\\begin{aligned}\n",
    "  Q_+(0) &= (q_L + q_R) / 2, \\\\\n",
    "  Q_+(1) &= q_R, \\\\\n",
    "  Q_-(1) &= q_L, \\\\\n",
    "  Q_-(0) &= Q_+(0), \\\\\n",
    "  R_-(0) &= -R_+(0).\n",
    "\\end{aligned}\n",
    "$$\n",
    "That is, we are fixing the translation constant by enforcing the value at $z=0$, we are imposing the function values at $\\xi = \\pm \\infty$, and we enforcing the continuity of the function and its first derivative at the matching point $\\xi = 0 = z_\\pm$.\n",
    "\n",
    "This gives us an ODE system of size four with one additional unknown parameter, plus five boundary conditions. This should (?) be a well-posed problem."
   ]
  },
  {
   "cell_type": "markdown",
   "id": "cba06646",
   "metadata": {},
   "source": [
    "### Singular BVPs"
   ]
  },
  {
   "cell_type": "markdown",
   "id": "c80d5e84",
   "metadata": {},
   "source": [
    "We note that the BVP that we actually have to solve is going to be singular, as it has the form\n",
    "$$\n",
    "R' = \\frac{1}{1 - z^2} {\\cal S}(Q, R; V).\n",
    "$$\n",
    "\n",
    "The `scipy` function `solve_bvp` can enforce singular boundary conditions, but only at the *left* boundary. Ours is at the right. So we need to make another change of variable; probably something like $Z = 1 - z$, which leads to a system something like (**needs checking**)\n",
    "$$\n",
    "\\begin{aligned}\n",
    "  Q_+' &= -R_+ \\\\\n",
    "  Q_-' &= -R_- \\\\\n",
    "  -Z^2 R_+' &= \\left( \\partial_q f - V + 2 Z \\right) R_+ \\\\\n",
    "  Z^2 R_-' &= \\left( \\partial_q f - V - 2 Z \\right) R_-.\n",
    "\\end{aligned}\n",
    "$$\n",
    "We also need to flip the boundary condition locations $0 \\leftrightarrow 1$. The singularity is now at $Z=0$ and the matching point at $Z=1$."
   ]
  },
  {
   "cell_type": "code",
   "execution_count": 3,
   "id": "f4bb3888",
   "metadata": {},
   "outputs": [],
   "source": [
    "### Coding it Up"
   ]
  },
  {
   "cell_type": "code",
   "execution_count": 5,
   "id": "98100fbd",
   "metadata": {},
   "outputs": [],
   "source": [
    "import numpy as np\n",
    "import sympy\n",
    "sympy.init_printing()\n",
    "from scipy.optimize import brentq, newton, minimize_scalar\n",
    "from scipy.integrate import solve_ivp, solve_bvp\n",
    "from scipy.special import erf\n",
    "import matplotlib.pyplot as plt"
   ]
  },
  {
   "cell_type": "code",
   "execution_count": 6,
   "id": "0040bffe",
   "metadata": {},
   "outputs": [],
   "source": [
    "Z = sympy.symbols('Z')\n",
    "V = sympy.symbols('V')\n",
    "Qp = sympy.Function('Qp')\n",
    "Qm = sympy.Function('Qm')\n",
    "Rp = sympy.Function('Rp')\n",
    "Rm = sympy.Function('Rm')"
   ]
  },
  {
   "cell_type": "code",
   "execution_count": 15,
   "id": "a3860489",
   "metadata": {},
   "outputs": [],
   "source": [
    "def f_bvp(eta, q, p):\n",
    "    V = p[0]\n",
    "    Qp, Qm, Rp, Rm = q\n",
    "    f = np.zeros_like(q)\n",
    "    f[0, :] = -Rp\n",
    "    f[1, :] = -Rm\n",
    "    f[2, :] = -(1/Z**2)*(2*Qp - V + 2*Z)*Rp\n",
    "    f[3, :] = (1/Z**2)*(2*Qm - V - 2*Z)*Rm\n",
    "    return f\n",
    "def bcs(qa, qb, p):\n",
    "    return np.array([qa[0] + 1, qb[0], qa[1] - 1, qb[1], qb[2] + qb[3]])"
   ]
  },
  {
   "cell_type": "code",
   "execution_count": 21,
   "id": "8ed28fc1",
   "metadata": {},
   "outputs": [
    {
     "name": "stderr",
     "output_type": "stream",
     "text": [
      "<ipython-input-21-a193e6f4dbdc>:9: RuntimeWarning: divide by zero encountered in true_divide\n",
      "  S[0,2] = (1/Z**2)\n"
     ]
    },
    {
     "ename": "ValueError",
     "evalue": "setting an array element with a sequence.",
     "output_type": "error",
     "traceback": [
      "\u001b[1;31m---------------------------------------------------------------------------\u001b[0m",
      "\u001b[1;31mTypeError\u001b[0m                                 Traceback (most recent call last)",
      "\u001b[1;31mTypeError\u001b[0m: only size-1 arrays can be converted to Python scalars",
      "\nThe above exception was the direct cause of the following exception:\n",
      "\u001b[1;31mValueError\u001b[0m                                Traceback (most recent call last)",
      "\u001b[1;32m<ipython-input-21-a193e6f4dbdc>\u001b[0m in \u001b[0;36m<module>\u001b[1;34m\u001b[0m\n\u001b[0;32m      7\u001b[0m \u001b[1;33m\u001b[0m\u001b[0m\n\u001b[0;32m      8\u001b[0m \u001b[0mS\u001b[0m \u001b[1;33m=\u001b[0m \u001b[0mnp\u001b[0m\u001b[1;33m.\u001b[0m\u001b[0mzeros\u001b[0m\u001b[1;33m(\u001b[0m\u001b[1;33m(\u001b[0m\u001b[1;36m4\u001b[0m\u001b[1;33m,\u001b[0m\u001b[1;36m4\u001b[0m\u001b[1;33m)\u001b[0m\u001b[1;33m)\u001b[0m\u001b[1;33m\u001b[0m\u001b[1;33m\u001b[0m\u001b[0m\n\u001b[1;32m----> 9\u001b[1;33m \u001b[0mS\u001b[0m\u001b[1;33m[\u001b[0m\u001b[1;36m0\u001b[0m\u001b[1;33m,\u001b[0m\u001b[1;36m2\u001b[0m\u001b[1;33m]\u001b[0m \u001b[1;33m=\u001b[0m \u001b[1;33m(\u001b[0m\u001b[1;36m1\u001b[0m\u001b[1;33m/\u001b[0m\u001b[0mZ\u001b[0m\u001b[1;33m**\u001b[0m\u001b[1;36m2\u001b[0m\u001b[1;33m)\u001b[0m\u001b[1;33m\u001b[0m\u001b[1;33m\u001b[0m\u001b[0m\n\u001b[0m\u001b[0;32m     10\u001b[0m \u001b[0mS\u001b[0m\u001b[1;33m\u001b[0m\u001b[1;33m\u001b[0m\u001b[0m\n",
      "\u001b[1;31mValueError\u001b[0m: setting an array element with a sequence."
     ]
    }
   ],
   "source": [
    "Z = np.linspace(0, 1)\n",
    "q_guess = np.zeros((4, len(Z)))\n",
    "q_guess[0, :] = - Z / 100\n",
    "q_guess[1, :] = Z / 100\n",
    "q_guess[2, :] = - 1 / 100\n",
    "q_guess[3, :] = 1 / 100\n",
    "\n",
    "S = np.zeros((4,4))\n",
    "S[0,2] = (1/Z**2)\n",
    "S"
   ]
  },
  {
   "cell_type": "code",
   "execution_count": 17,
   "id": "752aac0f",
   "metadata": {},
   "outputs": [
    {
     "name": "stderr",
     "output_type": "stream",
     "text": [
      "<ipython-input-15-81519e3b2c72>:7: RuntimeWarning: divide by zero encountered in true_divide\n",
      "  f[2, :] = -(1/Z**2)*(2*Qp - V + 2*Z)*Rp\n",
      "<ipython-input-15-81519e3b2c72>:7: RuntimeWarning: invalid value encountered in multiply\n",
      "  f[2, :] = -(1/Z**2)*(2*Qp - V + 2*Z)*Rp\n",
      "<ipython-input-15-81519e3b2c72>:8: RuntimeWarning: divide by zero encountered in true_divide\n",
      "  f[3, :] = (1/Z**2)*(2*Qm - V - 2*Z)*Rm\n",
      "<ipython-input-15-81519e3b2c72>:8: RuntimeWarning: invalid value encountered in multiply\n",
      "  f[3, :] = (1/Z**2)*(2*Qm - V - 2*Z)*Rm\n"
     ]
    },
    {
     "ename": "ValueError",
     "evalue": "operands could not be broadcast together with shapes (49,) (50,) ",
     "output_type": "error",
     "traceback": [
      "\u001b[1;31m---------------------------------------------------------------------------\u001b[0m",
      "\u001b[1;31mValueError\u001b[0m                                Traceback (most recent call last)",
      "\u001b[1;32m<ipython-input-17-d4390676a31b>\u001b[0m in \u001b[0;36m<module>\u001b[1;34m\u001b[0m\n\u001b[1;32m----> 1\u001b[1;33m \u001b[0msoln\u001b[0m \u001b[1;33m=\u001b[0m \u001b[0msolve_bvp\u001b[0m\u001b[1;33m(\u001b[0m\u001b[0mf_bvp\u001b[0m\u001b[1;33m,\u001b[0m \u001b[0mbcs\u001b[0m\u001b[1;33m,\u001b[0m \u001b[0mZ\u001b[0m\u001b[1;33m,\u001b[0m \u001b[0mq_guess\u001b[0m\u001b[1;33m,\u001b[0m \u001b[0mp\u001b[0m \u001b[1;33m=\u001b[0m \u001b[1;33m[\u001b[0m\u001b[1;36m0\u001b[0m\u001b[1;33m]\u001b[0m\u001b[1;33m,\u001b[0m \u001b[0mtol\u001b[0m\u001b[1;33m=\u001b[0m\u001b[1;36m5e-2\u001b[0m\u001b[1;33m)\u001b[0m\u001b[1;33m\u001b[0m\u001b[1;33m\u001b[0m\u001b[0m\n\u001b[0m\u001b[0;32m      2\u001b[0m \u001b[1;31m#soln = solve_bvp(f_bvp, bcs, soln.x, soln.y, p = [0], tol=1e-2)\u001b[0m\u001b[1;33m\u001b[0m\u001b[1;33m\u001b[0m\u001b[1;33m\u001b[0m\u001b[0m\n\u001b[0;32m      3\u001b[0m \u001b[0msoln\u001b[0m\u001b[1;33m.\u001b[0m\u001b[0msuccess\u001b[0m\u001b[1;33m\u001b[0m\u001b[1;33m\u001b[0m\u001b[0m\n",
      "\u001b[1;32m~\\Anaconda3\\lib\\site-packages\\scipy\\integrate\\_bvp.py\u001b[0m in \u001b[0;36msolve_bvp\u001b[1;34m(fun, bc, x, y, p, S, fun_jac, bc_jac, tol, max_nodes, verbose, bc_tol)\u001b[0m\n\u001b[0;32m   1080\u001b[0m         col_fun, jac_sys = prepare_sys(n, m, k, fun_wrapped, bc_wrapped,\n\u001b[0;32m   1081\u001b[0m                                        fun_jac_wrapped, bc_jac_wrapped, x, h)\n\u001b[1;32m-> 1082\u001b[1;33m         y, p, singular = solve_newton(n, m, h, col_fun, bc_wrapped, jac_sys,\n\u001b[0m\u001b[0;32m   1083\u001b[0m                                       y, p, B, tol, bc_tol)\n\u001b[0;32m   1084\u001b[0m         \u001b[0miteration\u001b[0m \u001b[1;33m+=\u001b[0m \u001b[1;36m1\u001b[0m\u001b[1;33m\u001b[0m\u001b[1;33m\u001b[0m\u001b[0m\n",
      "\u001b[1;32m~\\Anaconda3\\lib\\site-packages\\scipy\\integrate\\_bvp.py\u001b[0m in \u001b[0;36msolve_newton\u001b[1;34m(n, m, h, col_fun, bc, jac, y, p, B, bvp_tol, bc_tol)\u001b[0m\n\u001b[0;32m    436\u001b[0m     \u001b[0mn_trial\u001b[0m \u001b[1;33m=\u001b[0m \u001b[1;36m4\u001b[0m\u001b[1;33m\u001b[0m\u001b[1;33m\u001b[0m\u001b[0m\n\u001b[0;32m    437\u001b[0m \u001b[1;33m\u001b[0m\u001b[0m\n\u001b[1;32m--> 438\u001b[1;33m     \u001b[0mcol_res\u001b[0m\u001b[1;33m,\u001b[0m \u001b[0my_middle\u001b[0m\u001b[1;33m,\u001b[0m \u001b[0mf\u001b[0m\u001b[1;33m,\u001b[0m \u001b[0mf_middle\u001b[0m \u001b[1;33m=\u001b[0m \u001b[0mcol_fun\u001b[0m\u001b[1;33m(\u001b[0m\u001b[0my\u001b[0m\u001b[1;33m,\u001b[0m \u001b[0mp\u001b[0m\u001b[1;33m)\u001b[0m\u001b[1;33m\u001b[0m\u001b[1;33m\u001b[0m\u001b[0m\n\u001b[0m\u001b[0;32m    439\u001b[0m     \u001b[0mbc_res\u001b[0m \u001b[1;33m=\u001b[0m \u001b[0mbc\u001b[0m\u001b[1;33m(\u001b[0m\u001b[0my\u001b[0m\u001b[1;33m[\u001b[0m\u001b[1;33m:\u001b[0m\u001b[1;33m,\u001b[0m \u001b[1;36m0\u001b[0m\u001b[1;33m]\u001b[0m\u001b[1;33m,\u001b[0m \u001b[0my\u001b[0m\u001b[1;33m[\u001b[0m\u001b[1;33m:\u001b[0m\u001b[1;33m,\u001b[0m \u001b[1;33m-\u001b[0m\u001b[1;36m1\u001b[0m\u001b[1;33m]\u001b[0m\u001b[1;33m,\u001b[0m \u001b[0mp\u001b[0m\u001b[1;33m)\u001b[0m\u001b[1;33m\u001b[0m\u001b[1;33m\u001b[0m\u001b[0m\n\u001b[0;32m    440\u001b[0m     \u001b[0mres\u001b[0m \u001b[1;33m=\u001b[0m \u001b[0mnp\u001b[0m\u001b[1;33m.\u001b[0m\u001b[0mhstack\u001b[0m\u001b[1;33m(\u001b[0m\u001b[1;33m(\u001b[0m\u001b[0mcol_res\u001b[0m\u001b[1;33m.\u001b[0m\u001b[0mravel\u001b[0m\u001b[1;33m(\u001b[0m\u001b[0morder\u001b[0m\u001b[1;33m=\u001b[0m\u001b[1;34m'F'\u001b[0m\u001b[1;33m)\u001b[0m\u001b[1;33m,\u001b[0m \u001b[0mbc_res\u001b[0m\u001b[1;33m)\u001b[0m\u001b[1;33m)\u001b[0m\u001b[1;33m\u001b[0m\u001b[1;33m\u001b[0m\u001b[0m\n",
      "\u001b[1;32m~\\Anaconda3\\lib\\site-packages\\scipy\\integrate\\_bvp.py\u001b[0m in \u001b[0;36mcol_fun\u001b[1;34m(y, p)\u001b[0m\n\u001b[0;32m    321\u001b[0m \u001b[1;33m\u001b[0m\u001b[0m\n\u001b[0;32m    322\u001b[0m     \u001b[1;32mdef\u001b[0m \u001b[0mcol_fun\u001b[0m\u001b[1;33m(\u001b[0m\u001b[0my\u001b[0m\u001b[1;33m,\u001b[0m \u001b[0mp\u001b[0m\u001b[1;33m)\u001b[0m\u001b[1;33m:\u001b[0m\u001b[1;33m\u001b[0m\u001b[1;33m\u001b[0m\u001b[0m\n\u001b[1;32m--> 323\u001b[1;33m         \u001b[1;32mreturn\u001b[0m \u001b[0mcollocation_fun\u001b[0m\u001b[1;33m(\u001b[0m\u001b[0mfun\u001b[0m\u001b[1;33m,\u001b[0m \u001b[0my\u001b[0m\u001b[1;33m,\u001b[0m \u001b[0mp\u001b[0m\u001b[1;33m,\u001b[0m \u001b[0mx\u001b[0m\u001b[1;33m,\u001b[0m \u001b[0mh\u001b[0m\u001b[1;33m)\u001b[0m\u001b[1;33m\u001b[0m\u001b[1;33m\u001b[0m\u001b[0m\n\u001b[0m\u001b[0;32m    324\u001b[0m \u001b[1;33m\u001b[0m\u001b[0m\n\u001b[0;32m    325\u001b[0m     \u001b[1;32mdef\u001b[0m \u001b[0msys_jac\u001b[0m\u001b[1;33m(\u001b[0m\u001b[0my\u001b[0m\u001b[1;33m,\u001b[0m \u001b[0mp\u001b[0m\u001b[1;33m,\u001b[0m \u001b[0my_middle\u001b[0m\u001b[1;33m,\u001b[0m \u001b[0mf\u001b[0m\u001b[1;33m,\u001b[0m \u001b[0mf_middle\u001b[0m\u001b[1;33m,\u001b[0m \u001b[0mbc0\u001b[0m\u001b[1;33m)\u001b[0m\u001b[1;33m:\u001b[0m\u001b[1;33m\u001b[0m\u001b[1;33m\u001b[0m\u001b[0m\n",
      "\u001b[1;32m~\\Anaconda3\\lib\\site-packages\\scipy\\integrate\\_bvp.py\u001b[0m in \u001b[0;36mcollocation_fun\u001b[1;34m(fun, y, p, x, h)\u001b[0m\n\u001b[0;32m    308\u001b[0m     y_middle = (0.5 * (y[:, 1:] + y[:, :-1]) -\n\u001b[0;32m    309\u001b[0m                 0.125 * h * (f[:, 1:] - f[:, :-1]))\n\u001b[1;32m--> 310\u001b[1;33m     \u001b[0mf_middle\u001b[0m \u001b[1;33m=\u001b[0m \u001b[0mfun\u001b[0m\u001b[1;33m(\u001b[0m\u001b[0mx\u001b[0m\u001b[1;33m[\u001b[0m\u001b[1;33m:\u001b[0m\u001b[1;33m-\u001b[0m\u001b[1;36m1\u001b[0m\u001b[1;33m]\u001b[0m \u001b[1;33m+\u001b[0m \u001b[1;36m0.5\u001b[0m \u001b[1;33m*\u001b[0m \u001b[0mh\u001b[0m\u001b[1;33m,\u001b[0m \u001b[0my_middle\u001b[0m\u001b[1;33m,\u001b[0m \u001b[0mp\u001b[0m\u001b[1;33m)\u001b[0m\u001b[1;33m\u001b[0m\u001b[1;33m\u001b[0m\u001b[0m\n\u001b[0m\u001b[0;32m    311\u001b[0m     col_res = y[:, 1:] - y[:, :-1] - h / 6 * (f[:, :-1] + f[:, 1:] +\n\u001b[0;32m    312\u001b[0m                                               4 * f_middle)\n",
      "\u001b[1;32m~\\Anaconda3\\lib\\site-packages\\scipy\\integrate\\_bvp.py\u001b[0m in \u001b[0;36mfun_p\u001b[1;34m(x, y, p)\u001b[0m\n\u001b[0;32m    661\u001b[0m     \u001b[1;32melse\u001b[0m\u001b[1;33m:\u001b[0m\u001b[1;33m\u001b[0m\u001b[1;33m\u001b[0m\u001b[0m\n\u001b[0;32m    662\u001b[0m         \u001b[1;32mdef\u001b[0m \u001b[0mfun_p\u001b[0m\u001b[1;33m(\u001b[0m\u001b[0mx\u001b[0m\u001b[1;33m,\u001b[0m \u001b[0my\u001b[0m\u001b[1;33m,\u001b[0m \u001b[0mp\u001b[0m\u001b[1;33m)\u001b[0m\u001b[1;33m:\u001b[0m\u001b[1;33m\u001b[0m\u001b[1;33m\u001b[0m\u001b[0m\n\u001b[1;32m--> 663\u001b[1;33m             \u001b[1;32mreturn\u001b[0m \u001b[0mnp\u001b[0m\u001b[1;33m.\u001b[0m\u001b[0masarray\u001b[0m\u001b[1;33m(\u001b[0m\u001b[0mfun\u001b[0m\u001b[1;33m(\u001b[0m\u001b[0mx\u001b[0m\u001b[1;33m,\u001b[0m \u001b[0my\u001b[0m\u001b[1;33m,\u001b[0m \u001b[0mp\u001b[0m\u001b[1;33m)\u001b[0m\u001b[1;33m,\u001b[0m \u001b[0mdtype\u001b[0m\u001b[1;33m)\u001b[0m\u001b[1;33m\u001b[0m\u001b[1;33m\u001b[0m\u001b[0m\n\u001b[0m\u001b[0;32m    664\u001b[0m \u001b[1;33m\u001b[0m\u001b[0m\n\u001b[0;32m    665\u001b[0m         \u001b[1;32mdef\u001b[0m \u001b[0mbc_wrapped\u001b[0m\u001b[1;33m(\u001b[0m\u001b[0mx\u001b[0m\u001b[1;33m,\u001b[0m \u001b[0my\u001b[0m\u001b[1;33m,\u001b[0m \u001b[0mp\u001b[0m\u001b[1;33m)\u001b[0m\u001b[1;33m:\u001b[0m\u001b[1;33m\u001b[0m\u001b[1;33m\u001b[0m\u001b[0m\n",
      "\u001b[1;32m<ipython-input-15-81519e3b2c72>\u001b[0m in \u001b[0;36mf_bvp\u001b[1;34m(eta, q, p)\u001b[0m\n\u001b[0;32m      5\u001b[0m     \u001b[0mf\u001b[0m\u001b[1;33m[\u001b[0m\u001b[1;36m0\u001b[0m\u001b[1;33m,\u001b[0m \u001b[1;33m:\u001b[0m\u001b[1;33m]\u001b[0m \u001b[1;33m=\u001b[0m \u001b[1;33m-\u001b[0m\u001b[0mRp\u001b[0m\u001b[1;33m\u001b[0m\u001b[1;33m\u001b[0m\u001b[0m\n\u001b[0;32m      6\u001b[0m     \u001b[0mf\u001b[0m\u001b[1;33m[\u001b[0m\u001b[1;36m1\u001b[0m\u001b[1;33m,\u001b[0m \u001b[1;33m:\u001b[0m\u001b[1;33m]\u001b[0m \u001b[1;33m=\u001b[0m \u001b[1;33m-\u001b[0m\u001b[0mRm\u001b[0m\u001b[1;33m\u001b[0m\u001b[1;33m\u001b[0m\u001b[0m\n\u001b[1;32m----> 7\u001b[1;33m     \u001b[0mf\u001b[0m\u001b[1;33m[\u001b[0m\u001b[1;36m2\u001b[0m\u001b[1;33m,\u001b[0m \u001b[1;33m:\u001b[0m\u001b[1;33m]\u001b[0m \u001b[1;33m=\u001b[0m \u001b[1;33m-\u001b[0m\u001b[1;33m(\u001b[0m\u001b[1;36m1\u001b[0m\u001b[1;33m/\u001b[0m\u001b[0mZ\u001b[0m\u001b[1;33m**\u001b[0m\u001b[1;36m2\u001b[0m\u001b[1;33m)\u001b[0m\u001b[1;33m*\u001b[0m\u001b[1;33m(\u001b[0m\u001b[1;36m2\u001b[0m\u001b[1;33m*\u001b[0m\u001b[0mQp\u001b[0m \u001b[1;33m-\u001b[0m \u001b[0mV\u001b[0m \u001b[1;33m+\u001b[0m \u001b[1;36m2\u001b[0m\u001b[1;33m*\u001b[0m\u001b[0mZ\u001b[0m\u001b[1;33m)\u001b[0m\u001b[1;33m*\u001b[0m\u001b[0mRp\u001b[0m\u001b[1;33m\u001b[0m\u001b[1;33m\u001b[0m\u001b[0m\n\u001b[0m\u001b[0;32m      8\u001b[0m     \u001b[0mf\u001b[0m\u001b[1;33m[\u001b[0m\u001b[1;36m3\u001b[0m\u001b[1;33m,\u001b[0m \u001b[1;33m:\u001b[0m\u001b[1;33m]\u001b[0m \u001b[1;33m=\u001b[0m \u001b[1;33m(\u001b[0m\u001b[1;36m1\u001b[0m\u001b[1;33m/\u001b[0m\u001b[0mZ\u001b[0m\u001b[1;33m**\u001b[0m\u001b[1;36m2\u001b[0m\u001b[1;33m)\u001b[0m\u001b[1;33m*\u001b[0m\u001b[1;33m(\u001b[0m\u001b[1;36m2\u001b[0m\u001b[1;33m*\u001b[0m\u001b[0mQm\u001b[0m \u001b[1;33m-\u001b[0m \u001b[0mV\u001b[0m \u001b[1;33m-\u001b[0m \u001b[1;36m2\u001b[0m\u001b[1;33m*\u001b[0m\u001b[0mZ\u001b[0m\u001b[1;33m)\u001b[0m\u001b[1;33m*\u001b[0m\u001b[0mRm\u001b[0m\u001b[1;33m\u001b[0m\u001b[1;33m\u001b[0m\u001b[0m\n\u001b[0;32m      9\u001b[0m     \u001b[1;32mreturn\u001b[0m \u001b[0mf\u001b[0m\u001b[1;33m\u001b[0m\u001b[1;33m\u001b[0m\u001b[0m\n",
      "\u001b[1;31mValueError\u001b[0m: operands could not be broadcast together with shapes (49,) (50,) "
     ]
    }
   ],
   "source": [
    "\n",
    "soln = solve_bvp(f_bvp, bcs, Z, q_guess, p = [0], tol=5e-2, S)\n",
    "#soln = solve_bvp(f_bvp, bcs, soln.x, soln.y, p = [0], tol=1e-2)\n",
    "soln.success"
   ]
  },
  {
   "cell_type": "code",
   "execution_count": null,
   "id": "b62d0e24",
   "metadata": {},
   "outputs": [],
   "source": []
  }
 ],
 "metadata": {
  "kernelspec": {
   "display_name": "Python 3",
   "language": "python",
   "name": "python3"
  },
  "language_info": {
   "codemirror_mode": {
    "name": "ipython",
    "version": 3
   },
   "file_extension": ".py",
   "mimetype": "text/x-python",
   "name": "python",
   "nbconvert_exporter": "python",
   "pygments_lexer": "ipython3",
   "version": "3.8.8"
  }
 },
 "nbformat": 4,
 "nbformat_minor": 5
}
