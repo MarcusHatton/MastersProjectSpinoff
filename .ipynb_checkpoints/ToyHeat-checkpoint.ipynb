{
 "cells": [
  {
   "cell_type": "code",
   "execution_count": 2,
   "id": "583d5691",
   "metadata": {},
   "outputs": [],
   "source": [
    "import sympy"
   ]
  },
  {
   "cell_type": "code",
   "execution_count": 3,
   "id": "9b68e81b",
   "metadata": {},
   "outputs": [],
   "source": [
    "sympy.init_printing()"
   ]
  },
  {
   "cell_type": "code",
   "execution_count": 4,
   "id": "11f650ce",
   "metadata": {},
   "outputs": [],
   "source": [
    "x, t = sympy.symbols('x t')\n",
    "T = sympy.Function('T')\n",
    "kappa = sympy.symbols('kappa', positive=True)\n",
    "tau_q = sympy.symbols('tau_q', positive=True)\n",
    "eta, V = sympy.symbols('eta V')\n",
    "#V = 0"
   ]
  },
  {
   "cell_type": "code",
   "execution_count": 5,
   "id": "a6438abc",
   "metadata": {},
   "outputs": [
    {
     "data": {
      "image/png": "[encoded data removed]",
      "text/latex": [
       "$\\displaystyle \\frac{\\partial^{2}}{\\partial t^{2}} T{\\left(x,t \\right)} = \\frac{\\kappa \\frac{\\partial^{2}}{\\partial x^{2}} T{\\left(x,t \\right)} - \\frac{\\partial}{\\partial t} T{\\left(x,t \\right)}}{\\tau_{q}}$"
      ],
      "text/plain": [
       "                   2                       \n",
       "                  ∂             ∂          \n",
       "               κ⋅───(T(x, t)) - ──(T(x, t))\n",
       "  2                2            ∂t         \n",
       " ∂               ∂x                        \n",
       "───(T(x, t)) = ────────────────────────────\n",
       "  2                        τ_q             \n",
       "∂t                                         "
      ]
     },
     "execution_count": 5,
     "metadata": {},
     "output_type": "execute_result"
    }
   ],
   "source": [
    "CattaneoSingle = sympy.Eq(T(x,t).diff(t, 2), (1/tau_q)*(kappa*T(x,t).diff(x,2) - T(x,t).diff(t)))\n",
    "CattaneoSingle"
   ]
  },
  {
   "cell_type": "code",
   "execution_count": 6,
   "id": "87eedd81",
   "metadata": {},
   "outputs": [
    {
     "data": {
      "image/png": "[encoded data removed]",
      "text/latex": [
       "$\\displaystyle \\frac{\\partial}{\\partial t} T{\\left(x,t \\right)} = \\kappa \\frac{\\partial^{2}}{\\partial x^{2}} T{\\left(x,t \\right)}$"
      ],
      "text/plain": [
       "                  2         \n",
       "∂                ∂          \n",
       "──(T(x, t)) = κ⋅───(T(x, t))\n",
       "∂t                2         \n",
       "                ∂x          "
      ]
     },
     "execution_count": 6,
     "metadata": {},
     "output_type": "execute_result"
    }
   ],
   "source": [
    "toyheatCElimit = sympy.Eq(T(x,t).diff(t), kappa*T(x,t).diff(x,2))\n",
    "toyheatCElimit"
   ]
  },
  {
   "cell_type": "code",
   "execution_count": 7,
   "id": "85380d44",
   "metadata": {},
   "outputs": [
    {
     "data": {
      "image/png": "[encoded data removed]",
      "text/latex": [
       "$\\displaystyle \\frac{\\partial}{\\partial t} T{\\left(x,t \\right)} = \\kappa^{2} \\tau_{q} \\frac{\\partial^{4}}{\\partial x^{4}} T{\\left(x,t \\right)} + \\kappa \\frac{\\partial^{2}}{\\partial x^{2}} T{\\left(x,t \\right)}$"
      ],
      "text/plain": [
       "                       4                2         \n",
       "∂              2      ∂                ∂          \n",
       "──(T(x, t)) = κ ⋅τ_q⋅───(T(x, t)) + κ⋅───(T(x, t))\n",
       "∂t                     4                2         \n",
       "                     ∂x               ∂x          "
      ]
     },
     "execution_count": 7,
     "metadata": {},
     "output_type": "execute_result"
    }
   ],
   "source": [
    "toyheatCE = sympy.Eq(T(x,t).diff(t), kappa*T(x,t).diff(x,2) + kappa**2*tau_q*T(x,t).diff(x,4))\n",
    "toyheatCE"
   ]
  },
  {
   "cell_type": "code",
   "execution_count": 8,
   "id": "2d532fab",
   "metadata": {},
   "outputs": [
    {
     "data": {
      "text/plain": [
       "'Take toyheatCE and make spreading wave substitution'"
      ]
     },
     "execution_count": 8,
     "metadata": {},
     "output_type": "execute_result"
    }
   ],
   "source": [
    "\"Take toyheatCE and make spreading wave substitution\""
   ]
  },
  {
   "cell_type": "markdown",
   "id": "6171fbb7",
   "metadata": {},
   "source": [
    "\"Take toyheatCE and substitute eta expression\""
   ]
  },
  {
   "cell_type": "code",
   "execution_count": 9,
   "id": "8f7523fa",
   "metadata": {},
   "outputs": [
    {
     "data": {
      "image/png": "[encoded data removed]",
      "text/latex": [
       "$\\displaystyle \\frac{\\eta \\frac{d}{d \\eta} T{\\left(\\eta \\right)}}{2 \\kappa^{2}} + \\frac{d^{4}}{d \\eta^{4}} T{\\left(\\eta \\right)} + \\frac{\\frac{d^{2}}{d \\eta^{2}} T{\\left(\\eta \\right)}}{\\kappa} = 0$"
      ],
      "text/plain": [
       "                           2          \n",
       "                          d           \n",
       "  d                      ───(T(η))    \n",
       "η⋅──(T(η))     4           2          \n",
       "  dη          d          dη           \n",
       "────────── + ───(T(η)) + ───────── = 0\n",
       "      2        4             κ        \n",
       "   2⋅κ       dη                       "
      ]
     },
     "execution_count": 9,
     "metadata": {},
     "output_type": "execute_result"
    }
   ],
   "source": [
    "CE_in_eta = sympy.Eq(T(eta).diff(eta,4) + (1 / kappa)*T(eta).diff(eta,2) + eta / (2 * kappa**2) * T(eta).diff(eta), 0)\n",
    "CE_in_eta"
   ]
  },
  {
   "cell_type": "code",
   "execution_count": 10,
   "id": "4f83f136",
   "metadata": {},
   "outputs": [
    {
     "data": {
      "image/png": "[encoded data removed]",
      "text/latex": [
       "$\\displaystyle \\left(\\frac{\\eta^{2}}{4} - \\kappa\\right) \\frac{d^{2}}{d \\eta^{2}} T{\\left(\\eta \\right)} = \\frac{\\eta \\frac{d}{d \\eta} T{\\left(\\eta \\right)}}{2}$"
      ],
      "text/plain": [
       "                       d       \n",
       "⎛ 2    ⎞   2         η⋅──(T(η))\n",
       "⎜η     ⎟  d            dη      \n",
       "⎜── - κ⎟⋅───(T(η)) = ──────────\n",
       "⎝4     ⎠   2             2     \n",
       "         dη                    "
      ]
     },
     "execution_count": 10,
     "metadata": {},
     "output_type": "execute_result"
    }
   ],
   "source": [
    "Cat_in_eta = sympy.Eq((eta**2/4 - kappa)*T(eta).diff(eta,2), (eta/2)*T(eta).diff(eta))\n",
    "Cat_in_eta"
   ]
  },
  {
   "cell_type": "code",
   "execution_count": 11,
   "id": "44af70ac",
   "metadata": {},
   "outputs": [],
   "source": [
    "# sympy.dsolve(CE_in_eta, T(eta), ics={T(-sympy.oo): -1, T(sympy.oo): 1,\n",
    "#                                     T(eta).diff(eta).subs(eta,-sympy.oo) : 0, T(eta).diff(eta).subs(eta,sympy.oo) : 0})"
   ]
  },
  {
   "cell_type": "code",
   "execution_count": 12,
   "id": "14618e90",
   "metadata": {},
   "outputs": [],
   "source": [
    "# sympy.dsolve(Cat_in_eta, T(eta), ics={T(-sympy.oo): -1, T(sympy.oo): 1,\n",
    "#                                     T(eta).diff(eta).subs(eta,-sympy.oo) : 0, T(eta).diff(eta).subs(eta,sympy.oo) : 0})"
   ]
  },
  {
   "cell_type": "code",
   "execution_count": 13,
   "id": "4da8deb2",
   "metadata": {},
   "outputs": [
    {
     "data": {
      "text/plain": [
       "'Cannot solve neither Cattaneo nor CE for spreading wave ansatz. Now try with travelling wave ansatz'"
      ]
     },
     "execution_count": 13,
     "metadata": {},
     "output_type": "execute_result"
    }
   ],
   "source": [
    "\"Cannot solve neither Cattaneo nor CE for spreading wave ansatz. Now try with travelling wave ansatz\""
   ]
  },
  {
   "cell_type": "code",
   "execution_count": 14,
   "id": "93028ef7",
   "metadata": {},
   "outputs": [
    {
     "data": {
      "image/png": "[encoded data removed]",
      "text/latex": [
       "$\\displaystyle \\frac{\\kappa \\frac{d^{2}}{d \\eta^{2}} T{\\left(\\eta \\right)}}{\\tau_{q}} + \\frac{d^{4}}{d \\eta^{4}} T{\\left(\\eta \\right)} = 0$"
      ],
      "text/plain": [
       "    2                      \n",
       "   d                       \n",
       "κ⋅───(T(η))                \n",
       "    2           4          \n",
       "  dη           d           \n",
       "─────────── + ───(T(η)) = 0\n",
       "    τ_q         4          \n",
       "              dη           "
      ]
     },
     "execution_count": 14,
     "metadata": {},
     "output_type": "execute_result"
    }
   ],
   "source": [
    "V = 0 \n",
    "CE_in_V = sympy.Eq(T(eta).diff(eta,4) + (kappa / tau_q)*T(eta).diff(eta,2) + (V*kappa / tau_q)*T(eta).diff(eta), 0)\n",
    "CE_in_V"
   ]
  },
  {
   "cell_type": "code",
   "execution_count": 15,
   "id": "bae30144",
   "metadata": {},
   "outputs": [
    {
     "data": {
      "image/png": "[encoded data removed]",
      "text/latex": [
       "$\\displaystyle \\text{False}$"
      ],
      "text/plain": [
       "False"
      ]
     },
     "execution_count": 15,
     "metadata": {},
     "output_type": "execute_result"
    }
   ],
   "source": [
    "sympy.dsolve(CE_in_V, T(eta), ics={T(-sympy.oo): -1, T(sympy.oo): 1,\n",
    "                                    T(eta).diff(eta).subs(eta,-sympy.oo) : 0, T(eta).diff(eta).subs(eta,sympy.oo) : 0})"
   ]
  },
  {
   "cell_type": "code",
   "execution_count": 16,
   "id": "cc94f104",
   "metadata": {},
   "outputs": [
    {
     "data": {
      "image/png": "[encoded data removed]",
      "text/latex": [
       "$\\displaystyle \\kappa \\frac{d^{2}}{d \\eta^{2}} T{\\left(\\eta \\right)} = 0$"
      ],
      "text/plain": [
       "    2          \n",
       "   d           \n",
       "κ⋅───(T(η)) = 0\n",
       "    2          \n",
       "  dη           "
      ]
     },
     "execution_count": 16,
     "metadata": {},
     "output_type": "execute_result"
    }
   ],
   "source": [
    "V = 0 \n",
    "Cat_in_V = sympy.Eq((kappa - tau_q*V)*T(eta).diff(eta,2) + V*kappa*T(eta).diff(eta), 0)\n",
    "Cat_in_V"
   ]
  },
  {
   "cell_type": "code",
   "execution_count": 18,
   "id": "ce759453",
   "metadata": {},
   "outputs": [
    {
     "ename": "ValueError",
     "evalue": "Couldn't solve for initial conditions",
     "output_type": "error",
     "traceback": [
      "\u001b[1;31m---------------------------------------------------------------------------\u001b[0m",
      "\u001b[1;31mValueError\u001b[0m                                Traceback (most recent call last)",
      "\u001b[1;32m<ipython-input-18-5c6d9bc9d6e5>\u001b[0m in \u001b[0;36m<module>\u001b[1;34m\u001b[0m\n\u001b[1;32m----> 1\u001b[1;33m sympy.dsolve(Cat_in_V, T(eta), ics={T(-sympy.oo): -1, T(sympy.oo): 1,\n\u001b[0m\u001b[0;32m      2\u001b[0m                                     T(eta).diff(eta).subs(eta,-sympy.oo) : 0, T(eta).diff(eta).subs(eta,sympy.oo) : 0})\n",
      "\u001b[1;32m~\\Anaconda3\\lib\\site-packages\\sympy\\solvers\\ode\\ode.py\u001b[0m in \u001b[0;36mdsolve\u001b[1;34m(eq, func, hint, simplify, ics, xi, eta, x0, n, **kwargs)\u001b[0m\n\u001b[0;32m    662\u001b[0m             \u001b[1;31m# The key 'hint' stores the hint needed to be solved for.\u001b[0m\u001b[1;33m\u001b[0m\u001b[1;33m\u001b[0m\u001b[1;33m\u001b[0m\u001b[0m\n\u001b[0;32m    663\u001b[0m             \u001b[0mhint\u001b[0m \u001b[1;33m=\u001b[0m \u001b[0mhints\u001b[0m\u001b[1;33m[\u001b[0m\u001b[1;34m'hint'\u001b[0m\u001b[1;33m]\u001b[0m\u001b[1;33m\u001b[0m\u001b[1;33m\u001b[0m\u001b[0m\n\u001b[1;32m--> 664\u001b[1;33m             \u001b[1;32mreturn\u001b[0m \u001b[0m_helper_simplify\u001b[0m\u001b[1;33m(\u001b[0m\u001b[0meq\u001b[0m\u001b[1;33m,\u001b[0m \u001b[0mhint\u001b[0m\u001b[1;33m,\u001b[0m \u001b[0mhints\u001b[0m\u001b[1;33m,\u001b[0m \u001b[0msimplify\u001b[0m\u001b[1;33m,\u001b[0m \u001b[0mics\u001b[0m\u001b[1;33m=\u001b[0m\u001b[0mics\u001b[0m\u001b[1;33m)\u001b[0m\u001b[1;33m\u001b[0m\u001b[1;33m\u001b[0m\u001b[0m\n\u001b[0m\u001b[0;32m    665\u001b[0m \u001b[1;33m\u001b[0m\u001b[0m\n\u001b[0;32m    666\u001b[0m \u001b[1;32mdef\u001b[0m \u001b[0m_helper_simplify\u001b[0m\u001b[1;33m(\u001b[0m\u001b[0meq\u001b[0m\u001b[1;33m,\u001b[0m \u001b[0mhint\u001b[0m\u001b[1;33m,\u001b[0m \u001b[0mmatch\u001b[0m\u001b[1;33m,\u001b[0m \u001b[0msimplify\u001b[0m\u001b[1;33m=\u001b[0m\u001b[1;32mTrue\u001b[0m\u001b[1;33m,\u001b[0m \u001b[0mics\u001b[0m\u001b[1;33m=\u001b[0m\u001b[1;32mNone\u001b[0m\u001b[1;33m,\u001b[0m \u001b[1;33m**\u001b[0m\u001b[0mkwargs\u001b[0m\u001b[1;33m)\u001b[0m\u001b[1;33m:\u001b[0m\u001b[1;33m\u001b[0m\u001b[1;33m\u001b[0m\u001b[0m\n",
      "\u001b[1;32m~\\Anaconda3\\lib\\site-packages\\sympy\\solvers\\ode\\ode.py\u001b[0m in \u001b[0;36m_helper_simplify\u001b[1;34m(eq, hint, match, simplify, ics, **kwargs)\u001b[0m\n\u001b[0;32m    717\u001b[0m     \u001b[1;32mif\u001b[0m \u001b[0mics\u001b[0m \u001b[1;32mand\u001b[0m \u001b[1;32mnot\u001b[0m \u001b[1;34m'power_series'\u001b[0m \u001b[1;32min\u001b[0m \u001b[0mhint\u001b[0m\u001b[1;33m:\u001b[0m\u001b[1;33m\u001b[0m\u001b[1;33m\u001b[0m\u001b[0m\n\u001b[0;32m    718\u001b[0m         \u001b[1;32mif\u001b[0m \u001b[0misinstance\u001b[0m\u001b[1;33m(\u001b[0m\u001b[0mrv\u001b[0m\u001b[1;33m,\u001b[0m \u001b[1;33m(\u001b[0m\u001b[0mExpr\u001b[0m\u001b[1;33m,\u001b[0m \u001b[0mEq\u001b[0m\u001b[1;33m)\u001b[0m\u001b[1;33m)\u001b[0m\u001b[1;33m:\u001b[0m\u001b[1;33m\u001b[0m\u001b[1;33m\u001b[0m\u001b[0m\n\u001b[1;32m--> 719\u001b[1;33m             \u001b[0msolved_constants\u001b[0m \u001b[1;33m=\u001b[0m \u001b[0msolve_ics\u001b[0m\u001b[1;33m(\u001b[0m\u001b[1;33m[\u001b[0m\u001b[0mrv\u001b[0m\u001b[1;33m]\u001b[0m\u001b[1;33m,\u001b[0m \u001b[1;33m[\u001b[0m\u001b[0mr\u001b[0m\u001b[1;33m[\u001b[0m\u001b[1;34m'func'\u001b[0m\u001b[1;33m]\u001b[0m\u001b[1;33m]\u001b[0m\u001b[1;33m,\u001b[0m \u001b[0mcons\u001b[0m\u001b[1;33m(\u001b[0m\u001b[0mrv\u001b[0m\u001b[1;33m)\u001b[0m\u001b[1;33m,\u001b[0m \u001b[0mics\u001b[0m\u001b[1;33m)\u001b[0m\u001b[1;33m\u001b[0m\u001b[1;33m\u001b[0m\u001b[0m\n\u001b[0m\u001b[0;32m    720\u001b[0m             \u001b[0mrv\u001b[0m \u001b[1;33m=\u001b[0m \u001b[0mrv\u001b[0m\u001b[1;33m.\u001b[0m\u001b[0msubs\u001b[0m\u001b[1;33m(\u001b[0m\u001b[0msolved_constants\u001b[0m\u001b[1;33m)\u001b[0m\u001b[1;33m\u001b[0m\u001b[1;33m\u001b[0m\u001b[0m\n\u001b[0;32m    721\u001b[0m         \u001b[1;32melse\u001b[0m\u001b[1;33m:\u001b[0m\u001b[1;33m\u001b[0m\u001b[1;33m\u001b[0m\u001b[0m\n",
      "\u001b[1;32m~\\Anaconda3\\lib\\site-packages\\sympy\\solvers\\ode\\ode.py\u001b[0m in \u001b[0;36msolve_ics\u001b[1;34m(sols, funcs, constants, ics)\u001b[0m\n\u001b[0;32m    825\u001b[0m     \u001b[1;31m# we use NotImplementedError in this case.\u001b[0m\u001b[1;33m\u001b[0m\u001b[1;33m\u001b[0m\u001b[1;33m\u001b[0m\u001b[0m\n\u001b[0;32m    826\u001b[0m     \u001b[1;32mif\u001b[0m \u001b[1;32mnot\u001b[0m \u001b[0msolved_constants\u001b[0m\u001b[1;33m:\u001b[0m\u001b[1;33m\u001b[0m\u001b[1;33m\u001b[0m\u001b[0m\n\u001b[1;32m--> 827\u001b[1;33m         \u001b[1;32mraise\u001b[0m \u001b[0mValueError\u001b[0m\u001b[1;33m(\u001b[0m\u001b[1;34m\"Couldn't solve for initial conditions\"\u001b[0m\u001b[1;33m)\u001b[0m\u001b[1;33m\u001b[0m\u001b[1;33m\u001b[0m\u001b[0m\n\u001b[0m\u001b[0;32m    828\u001b[0m \u001b[1;33m\u001b[0m\u001b[0m\n\u001b[0;32m    829\u001b[0m     \u001b[1;32mif\u001b[0m \u001b[0msolved_constants\u001b[0m \u001b[1;33m==\u001b[0m \u001b[1;32mTrue\u001b[0m\u001b[1;33m:\u001b[0m\u001b[1;33m\u001b[0m\u001b[1;33m\u001b[0m\u001b[0m\n",
      "\u001b[1;31mValueError\u001b[0m: Couldn't solve for initial conditions"
     ]
    }
   ],
   "source": [
    "sympy.dsolve(Cat_in_V, T(eta), ics={T(-sympy.oo): -1, T(sympy.oo): 1,\n",
    "                                    T(eta).diff(eta).subs(eta,-sympy.oo) : 0, T(eta).diff(eta).subs(eta,sympy.oo) : 0})"
   ]
  },
  {
   "cell_type": "code",
   "execution_count": 17,
   "id": "9b1ce8bb",
   "metadata": {},
   "outputs": [],
   "source": [
    "def fprime(u):\n",
    "    return 0\n",
    "def fprime_inv(v):\n",
    "    return v\n",
    "def shooting_rhs(x, q, V, direction):\n",
    "    u, du = q\n",
    "    dqdx = np.zeros_like(q)\n",
    "    dqdx[0] = du\n",
    "    dqdx[1] = direction * (fprime(u) - V) * du\n",
    "    return dqdx"
   ]
  }
 ],
 "metadata": {
  "kernelspec": {
   "display_name": "Python 3",
   "language": "python",
   "name": "python3"
  },
  "language_info": {
   "codemirror_mode": {
    "name": "ipython",
    "version": 3
   },
   "file_extension": ".py",
   "mimetype": "text/x-python",
   "name": "python",
   "nbconvert_exporter": "python",
   "pygments_lexer": "ipython3",
   "version": "3.8.8"
  }
 },
 "nbformat": 4,
 "nbformat_minor": 5
}
