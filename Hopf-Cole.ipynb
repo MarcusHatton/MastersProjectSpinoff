{
 "cells": [
  {
   "cell_type": "code",
   "execution_count": 7,
   "id": "2fc895c3",
   "metadata": {},
   "outputs": [],
   "source": [
    "import sympy as sp\n",
    "sympy.init_printing()"
   ]
  },
  {
   "cell_type": "code",
   "execution_count": 9,
   "id": "981593b7",
   "metadata": {},
   "outputs": [],
   "source": [
    "x, t = sympy.symbols('x t')\n",
    "v = sympy.Function('v')\n",
    "w = sympy.Function('w')\n",
    "Pi = sympy.Function('Pi')\n",
    "\n",
    "# for differencing systems\n",
    "v1 = sympy.Function('v1') \n",
    "v2 = sympy.Function('v2')\n",
    "Pi1 = sympy.Function('Pi1')\n",
    "Pi2 = sympy.Function('Pi2')\n",
    "\n",
    "zeta = sympy.symbols('zeta', positive=True)\n",
    "tau_Pi = sympy.symbols('tau_Pi', positive=True)\n",
    "U, eta = sympy.symbols('U eta')\n",
    "#U = 0\n",
    "#tau_Pi, zeta = 1, 1"
   ]
  },
  {
   "cell_type": "code",
   "execution_count": 17,
   "id": "85029f3c",
   "metadata": {},
   "outputs": [
    {
     "data": {
      "image/png": "[encoded data removed]",
      "text/latex": [
       "$\\displaystyle v{\\left(x,t \\right)} \\frac{\\partial}{\\partial x} v{\\left(x,t \\right)} + \\frac{\\partial}{\\partial t} v{\\left(x,t \\right)} = \\zeta \\frac{\\partial^{2}}{\\partial x^{2}} v{\\left(x,t \\right)}$"
      ],
      "text/plain": [
       "                                        2         \n",
       "        ∂             ∂                ∂          \n",
       "v(x, t)⋅──(v(x, t)) + ──(v(x, t)) = ζ⋅───(v(x, t))\n",
       "        ∂x            ∂t                2         \n",
       "                                      ∂x          "
      ]
     },
     "execution_count": 17,
     "metadata": {},
     "output_type": "execute_result"
    }
   ],
   "source": [
    "burgers_eq = sympy.Eq(v(x,t).diff(t) + v(x,t)*v(x,t).diff(x), zeta*v(x,t).diff(x,2))\n",
    "burgers_eq"
   ]
  },
  {
   "cell_type": "code",
   "execution_count": 20,
   "id": "4cd6a18f",
   "metadata": {},
   "outputs": [
    {
     "data": {
      "image/png": "[encoded data removed]",
      "text/latex": [
       "$\\displaystyle \\zeta \\frac{\\partial^{2}}{\\partial x^{2}} \\left(- \\frac{2 \\zeta \\frac{\\partial}{\\partial x} w{\\left(x,t \\right)}}{w{\\left(x,t \\right)}}\\right) = - \\frac{2 \\zeta \\frac{\\partial}{\\partial x} \\left(- \\frac{2 \\zeta \\frac{\\partial}{\\partial x} w{\\left(x,t \\right)}}{w{\\left(x,t \\right)}}\\right) \\frac{\\partial}{\\partial x} w{\\left(x,t \\right)}}{w{\\left(x,t \\right)}} + \\frac{\\partial}{\\partial t} \\left(- \\frac{2 \\zeta \\frac{\\partial}{\\partial x} w{\\left(x,t \\right)}}{w{\\left(x,t \\right)}}\\right)$"
      ],
      "text/plain": [
       "                                   ⎛     ∂           ⎞                        \n",
       "                                   ⎜-2⋅ζ⋅──(w(x, t)) ⎟                        \n",
       "     ⎛     ∂           ⎞         ∂ ⎜     ∂x          ⎟ ∂               ⎛     ∂\n",
       "    2⎜-2⋅ζ⋅──(w(x, t)) ⎟     2⋅ζ⋅──⎜─────────────────⎟⋅──(w(x, t))     ⎜-2⋅ζ⋅─\n",
       "   ∂ ⎜     ∂x          ⎟         ∂x⎝     w(x, t)     ⎠ ∂x            ∂ ⎜     ∂\n",
       "ζ⋅───⎜─────────────────⎟ = - ───────────────────────────────────── + ──⎜──────\n",
       "    2⎝     w(x, t)     ⎠                    w(x, t)                  ∂t⎝     w\n",
       "  ∂x                                                                          \n",
       "\n",
       "            \n",
       "            \n",
       "           ⎞\n",
       "─(w(x, t)) ⎟\n",
       "x          ⎟\n",
       "───────────⎟\n",
       "(x, t)     ⎠\n",
       "            "
      ]
     },
     "execution_count": 20,
     "metadata": {},
     "output_type": "execute_result"
    }
   ],
   "source": [
    "burgers_eq_HC = burgers_eq.subs(v(x,t),-2*zeta*(1/w(x,t))*(w(x,t).diff(x)))\n",
    "burgers_eq_HC.simplify()"
   ]
  },
  {
   "cell_type": "code",
   "execution_count": 26,
   "id": "a9564687",
   "metadata": {},
   "outputs": [
    {
     "data": {
      "image/png": "[encoded data removed]",
      "text/latex": [
       "$\\displaystyle \\frac{\\partial}{\\partial t} \\left(- \\frac{v{\\left(x,t \\right)} w{\\left(x,t \\right)}}{2 \\zeta}\\right) = \\zeta \\frac{\\partial^{2}}{\\partial x\\partial t} \\left(- \\frac{v{\\left(x,t \\right)} w{\\left(x,t \\right)}}{2 \\zeta}\\right)$"
      ],
      "text/plain": [
       "                             2                    \n",
       "∂ ⎛-v(x, t)⋅w(x, t) ⎞       ∂  ⎛-v(x, t)⋅w(x, t) ⎞\n",
       "──⎜─────────────────⎟ = ζ⋅─────⎜─────────────────⎟\n",
       "∂t⎝       2⋅ζ       ⎠     ∂x ∂t⎝       2⋅ζ       ⎠"
      ]
     },
     "execution_count": 26,
     "metadata": {},
     "output_type": "execute_result"
    }
   ],
   "source": [
    "burgers_eq_HC = sympy.Eq(w(x,t).diff(t).diff(x), zeta*w(x,t).diff(x,2).diff(t))\n",
    "burgers_eq_HC.subs(w(x,t).diff(x),w(x,t)*v(x,t)/(-2*zeta)).expand()"
   ]
  },
  {
   "cell_type": "code",
   "execution_count": null,
   "id": "66f46041",
   "metadata": {},
   "outputs": [],
   "source": []
  }
 ],
 "metadata": {
  "kernelspec": {
   "display_name": "Python 3",
   "language": "python",
   "name": "python3"
  },
  "language_info": {
   "codemirror_mode": {
    "name": "ipython",
    "version": 3
   },
   "file_extension": ".py",
   "mimetype": "text/x-python",
   "name": "python",
   "nbconvert_exporter": "python",
   "pygments_lexer": "ipython3",
   "version": "3.8.10"
  }
 },
 "nbformat": 4,
 "nbformat_minor": 5
}
