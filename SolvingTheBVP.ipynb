{
 "cells": [
  {
   "cell_type": "code",
   "execution_count": 1,
   "id": "0a5a589c",
   "metadata": {},
   "outputs": [],
   "source": [
    "import numpy as np\n",
    "import sympy\n",
    "sympy.init_printing()\n",
    "from scipy.optimize import brentq, newton, minimize_scalar\n",
    "from scipy.integrate import solve_ivp, solve_bvp\n",
    "from scipy.special import erf\n",
    "import matplotlib.pyplot as plt"
   ]
  },
  {
   "cell_type": "code",
   "execution_count": 3,
   "id": "50546609",
   "metadata": {},
   "outputs": [],
   "source": [
    "eta, V = sympy.symbols('eta, V')\n",
    "kappa = sympy.symbols('kappa', positive=True)\n",
    "u = sympy.Function('u')\n",
    "tau = 1\n",
    "eq2 = sympy.Eq(u(eta).diff(eta,2), - 1 / (2 * kappa) * (eta + sympy.sqrt(tau) * (V - u(eta))) * u(eta).diff(eta))"
   ]
  },
  {
   "cell_type": "code",
   "execution_count": 6,
   "id": "0bcb8218",
   "metadata": {},
   "outputs": [],
   "source": [
    "kappa = 0.1\n",
    "tau = 1\n",
    "V = 0\n",
    "def f_bvp(eta, q):\n",
    "    u, du = q\n",
    "    f = np.zeros_like(q)\n",
    "    f[0, :] = du\n",
    "    f[1, :] = -1 / (2 * kappa) * (eta + np.sqrt(tau) * (V - u)) * du\n",
    "    return f\n",
    "def bcs(qa, qb):\n",
    "    return np.array([qa[0] - 1, qb[0] + 1])"
   ]
  },
  {
   "cell_type": "code",
   "execution_count": 7,
   "id": "b6373f3f",
   "metadata": {},
   "outputs": [],
   "source": [
    "eta = np.linspace(-100, 100)\n",
    "q_guess = np.zeros((2, len(eta)))\n",
    "q_guess[0, :] = - eta / 100\n",
    "q_guess[1, :] = - 1 / 100"
   ]
  },
  {
   "cell_type": "code",
   "execution_count": 8,
   "id": "d25e4b51",
   "metadata": {},
   "outputs": [
    {
     "data": {
      "text/plain": [
       "True"
      ]
     },
     "execution_count": 8,
     "metadata": {},
     "output_type": "execute_result"
    }
   ],
   "source": [
    "soln = solve_bvp(f_bvp, bcs, eta, q_guess)\n",
    "soln.success"
   ]
  },
  {
   "cell_type": "code",
   "execution_count": 9,
   "id": "03f6973b",
   "metadata": {},
   "outputs": [
    {
     "data": {
      "text/plain": [
       "[<matplotlib.lines.Line2D at 0x22804272c70>]"
      ]
     },
     "execution_count": 9,
     "metadata": {},
     "output_type": "execute_result"
    },
    {
     "data": {
      "image/png": "[encoded data removed]",
      "text/plain": [
       "<Figure size 432x288 with 1 Axes>"
      ]
     },
     "metadata": {
      "needs_background": "light"
     },
     "output_type": "display_data"
    }
   ],
   "source": [
    "plt.plot(soln.x, soln.y[0, :])"
   ]
  },
  {
   "cell_type": "code",
   "execution_count": 10,
   "id": "572e7d35",
   "metadata": {},
   "outputs": [
    {
     "data": {
      "text/plain": [
       "[<matplotlib.lines.Line2D at 0x228049ec940>]"
      ]
     },
     "execution_count": 10,
     "metadata": {},
     "output_type": "execute_result"
    },
    {
     "data": {
      "image/png": "[encoded data removed]",
      "text/plain": [
       "<Figure size 432x288 with 1 Axes>"
      ]
     },
     "metadata": {
      "needs_background": "light"
     },
     "output_type": "display_data"
    }
   ],
   "source": [
    "eta_zoom = np.linspace(-1, 1)\n",
    "plt.plot(eta_zoom, soln.sol(eta_zoom)[0, :])"
   ]
  },
  {
   "cell_type": "code",
   "execution_count": null,
   "id": "25bf73c5",
   "metadata": {},
   "outputs": [],
   "source": []
  }
 ],
 "metadata": {
  "kernelspec": {
   "display_name": "Python 3",
   "language": "python",
   "name": "python3"
  },
  "language_info": {
   "codemirror_mode": {
    "name": "ipython",
    "version": 3
   },
   "file_extension": ".py",
   "mimetype": "text/x-python",
   "name": "python",
   "nbconvert_exporter": "python",
   "pygments_lexer": "ipython3",
   "version": "3.8.10"
  }
 },
 "nbformat": 4,
 "nbformat_minor": 5
}
