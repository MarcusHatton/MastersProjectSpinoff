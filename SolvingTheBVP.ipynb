{
 "cells": [
  {
   "cell_type": "code",
   "execution_count": 3,
   "id": "0a5a589c",
   "metadata": {},
   "outputs": [],
   "source": [
    "import numpy as np\n",
    "import sympy\n",
    "sympy.init_printing()\n",
    "from scipy.optimize import brentq, newton, minimize_scalar\n",
    "from scipy.integrate import solve_ivp, solve_bvp\n",
    "from scipy.special import erf\n",
    "import matplotlib.pyplot as plt"
   ]
  },
  {
   "cell_type": "code",
   "execution_count": 4,
   "id": "50546609",
   "metadata": {},
   "outputs": [],
   "source": [
    "eta, V = sympy.symbols('eta, V')\n",
    "zeta = sympy.symbols('zeta', positive=True)\n",
    "tau_Pi = sympy.symbols('tau_Pi', positive=True)\n",
    "u = sympy.Function('u')\n",
    "tau = 1"
   ]
  },
  {
   "cell_type": "code",
   "execution_count": 5,
   "id": "0bcb8218",
   "metadata": {},
   "outputs": [],
   "source": [
    "# zeta = 0.1\n",
    "# tau_Pi = 0.1\n",
    "# tau = 1\n",
    "# V = 0\n",
    "# def f_bvp(eta, q, p):\n",
    "#     V = p[0]\n",
    "#     u, du, ddu = q\n",
    "#     bracket = ((2*u - V)/np.sqrt(tau) - eta/(2*tau))\n",
    "#     f = np.zeros_like(q)\n",
    "#     f[0, :] = du\n",
    "#     f[1, :] = ddu\n",
    "# #     f[1, :] = ((zeta/tau)*ddu - (zeta*tau_Pi/np.power(tau,3/2))*u*dddu) / (bracket - (zeta*tau_Pi/np.power(tau,3/2))*ddu) # du\n",
    "# #     f[2, :] = (bracket*du + (zeta*tau_Pi/np.power(tau,3/2))*u*dddu) / ((zeta/tau) + (zeta*tau_Pi/np.power(tau,3/2))*du) # ddu\n",
    "#     f[2, :] = ( (zeta/tau)*ddu + (zeta*tau_Pi/np.power(tau,3/2))*du*ddu - bracket*du ) / ((zeta*tau_Pi/np.power(tau,3/2))*u) # dddu\n",
    "#     return f\n",
    "# def bcs(qa, qb, p):\n",
    "#     return np.array([qa[0] - 1, qb[0] + 1, qa[1], qb[1]])"
   ]
  },
  {
   "cell_type": "code",
   "execution_count": 6,
   "id": "81f22fff",
   "metadata": {},
   "outputs": [],
   "source": [
    "zeta = 0.001\n",
    "tau_Pi = 1\n",
    "V = 0\n",
    "def f_bvp(eta, q, p):\n",
    "    V = p[0]\n",
    "    u, du, ddu = q\n",
    "    f = np.zeros_like(q)\n",
    "    f[0, :] = du\n",
    "    f[1, :] = ddu\n",
    "    f[2, :] = ( ((zeta/tau_Pi)*((2*u - V)*du - ddu) - du*ddu) / u) # dddu\n",
    "    return f\n",
    "def bcs(qa, qb, p):\n",
    "    return np.array([qa[0] - 1, qb[0] + 1, qa[1], qb[1]])"
   ]
  },
  {
   "cell_type": "code",
   "execution_count": 7,
   "id": "b6373f3f",
   "metadata": {},
   "outputs": [],
   "source": [
    "eta = np.linspace(-100, 100)\n",
    "q_guess = np.zeros((3, len(eta)))\n",
    "q_guess[0, :] = - eta / 100\n",
    "q_guess[1, :] = - 1 / 100"
   ]
  },
  {
   "cell_type": "code",
   "execution_count": 8,
   "id": "d25e4b51",
   "metadata": {},
   "outputs": [
    {
     "data": {
      "text/plain": [
       "True"
      ]
     },
     "execution_count": 8,
     "metadata": {},
     "output_type": "execute_result"
    }
   ],
   "source": [
    "soln = solve_bvp(f_bvp, bcs, eta, q_guess, p = [0], tol=5e-2)\n",
    "#soln = solve_bvp(f_bvp, bcs, soln.x, soln.y, p = [0], tol=1e-2)\n",
    "soln.success"
   ]
  },
  {
   "cell_type": "code",
   "execution_count": null,
   "id": "d5dcfc2b",
   "metadata": {},
   "outputs": [],
   "source": []
  },
  {
   "cell_type": "code",
   "execution_count": 9,
   "id": "d7090142",
   "metadata": {},
   "outputs": [
    {
     "data": {
      "text/plain": [
       "       message: 'The algorithm converged to the desired accuracy.'\n",
       "         niter: 1\n",
       "             p: array([0.002198])\n",
       " rms_residuals: array([3.09306654e-08, 3.17928068e-08, 3.37925800e-08, 3.70140864e-08,\n",
       "       4.15992972e-08, 4.77583559e-08, 5.57864844e-08, 6.60901420e-08,\n",
       "       7.92271985e-08, 9.59692411e-08, 1.17400266e-07, 1.45077509e-07,\n",
       "       1.81302667e-07, 2.29597878e-07, 2.95581099e-07, 3.88669408e-07,\n",
       "       5.25631886e-07, 7.38675967e-07, 1.09600474e-06, 1.76211836e-06,\n",
       "       3.21281615e-06, 7.26626203e-06, 2.56217430e-05, 4.53486239e-04,\n",
       "       7.82414026e-03, 4.52247328e-04, 2.56325254e-05, 7.27410406e-06,\n",
       "       3.21815667e-06, 1.76610082e-06, 1.09904750e-06, 7.40983687e-07,\n",
       "       5.27352288e-07, 3.89926729e-07, 2.96481589e-07, 2.30230532e-07,\n",
       "       1.81740061e-07, 1.45377342e-07, 1.17607320e-07, 9.61174349e-08,\n",
       "       7.93415142e-08, 6.61883060e-08, 5.58803494e-08, 4.78549969e-08,\n",
       "       4.17018859e-08, 3.71226688e-08, 3.39049223e-08, 3.19054663e-08,\n",
       "       3.10400993e-08])\n",
       "           sol: <scipy.interpolate.interpolate.PPoly object at 0x000001C3CD149270>\n",
       "        status: 0\n",
       "       success: True\n",
       "             x: array([-100.        ,  -95.91836735,  -91.83673469,  -87.75510204,\n",
       "        -83.67346939,  -79.59183673,  -75.51020408,  -71.42857143,\n",
       "        -67.34693878,  -63.26530612,  -59.18367347,  -55.10204082,\n",
       "        -51.02040816,  -46.93877551,  -42.85714286,  -38.7755102 ,\n",
       "        -34.69387755,  -30.6122449 ,  -26.53061224,  -22.44897959,\n",
       "        -18.36734694,  -14.28571429,  -10.20408163,   -6.12244898,\n",
       "         -2.04081633,    2.04081633,    6.12244898,   10.20408163,\n",
       "         14.28571429,   18.36734694,   22.44897959,   26.53061224,\n",
       "         30.6122449 ,   34.69387755,   38.7755102 ,   42.85714286,\n",
       "         46.93877551,   51.02040816,   55.10204082,   59.18367347,\n",
       "         63.26530612,   67.34693878,   71.42857143,   75.51020408,\n",
       "         79.59183673,   83.67346939,   87.75510204,   91.83673469,\n",
       "         95.91836735,  100.        ])\n",
       "             y: array([[ 1.00000000e+00,  9.99678786e-01,  9.98705841e-01,\n",
       "         9.97050543e-01,  9.94659132e-01,  9.91452845e-01,\n",
       "         9.87325152e-01,  9.82137926e-01,  9.75716395e-01,\n",
       "         9.67842622e-01,  9.58247156e-01,  9.46598383e-01,\n",
       "         9.32488924e-01,  9.15418118e-01,  8.94769217e-01,\n",
       "         8.69779209e-01,  8.39498003e-01,  8.02731589e-01,\n",
       "         7.57959810e-01,  7.03211142e-01,  6.35858438e-01,\n",
       "         5.52252224e-01,  4.46964202e-01,  3.10849792e-01,\n",
       "         1.25149903e-01, -1.25362146e-01, -3.11121935e-01,\n",
       "        -4.47247126e-01, -5.52524324e-01, -6.36108182e-01,\n",
       "        -7.03432945e-01, -7.58151706e-01, -8.02893837e-01,\n",
       "        -8.39632215e-01, -8.69887790e-01, -8.94854988e-01,\n",
       "        -9.15484071e-01, -9.32538051e-01, -9.46633563e-01,\n",
       "        -9.58271084e-01, -9.67857762e-01, -9.75724949e-01,\n",
       "        -9.82141819e-01, -9.87326022e-01, -9.91452034e-01,\n",
       "        -9.94657680e-01, -9.97049185e-01, -9.98704986e-01,\n",
       "        -9.99678506e-01, -1.00000000e+00],\n",
       "       [ 0.00000000e+00, -1.57741129e-04, -3.20248946e-04,\n",
       "        -4.93035680e-04, -6.81962735e-04, -8.93454658e-04,\n",
       "        -1.13473807e-03, -1.41411755e-03, -1.74130349e-03,\n",
       "        -2.12781174e-03, -2.58746196e-03, -3.13701275e-03,\n",
       "        -3.79698938e-03, -4.59278850e-03, -5.55619320e-03,\n",
       "        -6.72751739e-03, -8.15875832e-03, -9.91844967e-03,\n",
       "        -1.20995715e-02, -1.48334057e-02, -1.83161830e-02,\n",
       "        -2.28672306e-02, -2.90812792e-02, -3.83639791e-02,\n",
       "        -5.60072509e-02, -5.60267063e-02, -3.83704572e-02,\n",
       "        -2.90807449e-02, -2.28628597e-02, -1.83098367e-02,\n",
       "        -1.48262058e-02, -1.20922061e-02, -9.91134148e-03,\n",
       "        -8.15216070e-03, -6.72157238e-03, -5.55096859e-03,\n",
       "        -4.58830221e-03, -3.79322592e-03, -3.13393457e-03,\n",
       "        -2.58501716e-03, -2.12593946e-03, -1.73993740e-03,\n",
       "        -1.41318815e-03, -1.13417390e-03, -8.93182781e-04,\n",
       "        -6.81908569e-04, -4.93122222e-04, -3.20395493e-04,\n",
       "        -1.57861466e-04,  0.00000000e+00],\n",
       "       [-3.85013249e-05, -3.90101310e-05, -4.08431104e-05,\n",
       "        -4.40610075e-05, -4.87747787e-05, -5.51504204e-05,\n",
       "        -6.34164516e-05, -7.38746564e-05, -8.69150102e-05,\n",
       "        -1.03036205e-04, -1.22873941e-04, -1.47240376e-04,\n",
       "        -1.77180166e-04, -2.14052116e-04, -2.59651958e-04,\n",
       "        -3.16404253e-04, -3.87676666e-04, -4.78324591e-04,\n",
       "        -5.95702661e-04, -7.51713922e-04, -9.67456646e-04,\n",
       "        -1.28551834e-03, -1.81086534e-03, -2.91218589e-03,\n",
       "        -7.87826383e-03,  7.87547084e-03,  2.91441665e-03,\n",
       "         1.81212452e-03,  1.28619177e-03,  9.67780755e-04,\n",
       "         7.51825325e-04,  5.95682968e-04,  4.78225033e-04,\n",
       "         3.87530522e-04,  3.16233606e-04,  2.59471618e-04,\n",
       "         2.13872027e-04,  1.77006953e-04,  1.47078381e-04,\n",
       "         1.22725936e-04,  1.02903897e-04,  8.67994105e-05,\n",
       "         7.37763585e-05,  6.33358453e-05,  5.50878654e-05,\n",
       "         4.87307521e-05,  4.40362367e-05,  4.08387017e-05,\n",
       "         3.90277031e-05,  3.85431609e-05]])\n",
       "            yp: array([[ 0.00000000e+00, -1.57741129e-04, -3.20248946e-04,\n",
       "        -4.93035680e-04, -6.81962735e-04, -8.93454658e-04,\n",
       "        -1.13473807e-03, -1.41411755e-03, -1.74130349e-03,\n",
       "        -2.12781174e-03, -2.58746196e-03, -3.13701275e-03,\n",
       "        -3.79698938e-03, -4.59278850e-03, -5.55619320e-03,\n",
       "        -6.72751739e-03, -8.15875832e-03, -9.91844967e-03,\n",
       "        -1.20995715e-02, -1.48334057e-02, -1.83161830e-02,\n",
       "        -2.28672306e-02, -2.90812792e-02, -3.83639791e-02,\n",
       "        -5.60072509e-02, -5.60267063e-02, -3.83704572e-02,\n",
       "        -2.90807449e-02, -2.28628597e-02, -1.83098367e-02,\n",
       "        -1.48262058e-02, -1.20922061e-02, -9.91134148e-03,\n",
       "        -8.15216070e-03, -6.72157238e-03, -5.55096859e-03,\n",
       "        -4.58830221e-03, -3.79322592e-03, -3.13393457e-03,\n",
       "        -2.58501716e-03, -2.12593946e-03, -1.73993740e-03,\n",
       "        -1.41318815e-03, -1.13417390e-03, -8.93182781e-04,\n",
       "        -6.81908569e-04, -4.93122222e-04, -3.20395493e-04,\n",
       "        -1.57861466e-04,  0.00000000e+00],\n",
       "       [-3.85013249e-05, -3.90101310e-05, -4.08431104e-05,\n",
       "        -4.40610075e-05, -4.87747787e-05, -5.51504204e-05,\n",
       "        -6.34164516e-05, -7.38746564e-05, -8.69150102e-05,\n",
       "        -1.03036205e-04, -1.22873941e-04, -1.47240376e-04,\n",
       "        -1.77180166e-04, -2.14052116e-04, -2.59651958e-04,\n",
       "        -3.16404253e-04, -3.87676666e-04, -4.78324591e-04,\n",
       "        -5.95702661e-04, -7.51713922e-04, -9.67456646e-04,\n",
       "        -1.28551834e-03, -1.81086534e-03, -2.91218589e-03,\n",
       "        -7.87826383e-03,  7.87547084e-03,  2.91441665e-03,\n",
       "         1.81212452e-03,  1.28619177e-03,  9.67780755e-04,\n",
       "         7.51825325e-04,  5.95682968e-04,  4.78225033e-04,\n",
       "         3.87530522e-04,  3.16233606e-04,  2.59471618e-04,\n",
       "         2.13872027e-04,  1.77006953e-04,  1.47078381e-04,\n",
       "         1.22725936e-04,  1.02903897e-04,  8.67994105e-05,\n",
       "         7.37763585e-05,  6.33358453e-05,  5.50878654e-05,\n",
       "         4.87307521e-05,  4.40362367e-05,  4.08387017e-05,\n",
       "         3.90277031e-05,  3.85431609e-05],\n",
       "       [ 3.85013249e-08, -2.82268245e-07, -6.11993950e-07,\n",
       "        -9.62581027e-07, -1.34682298e-06, -1.77900190e-06,\n",
       "        -2.27560428e-06, -2.85621953e-06, -3.54471829e-06,\n",
       "        -4.37085763e-06, -5.37254565e-06, -6.59914692e-06,\n",
       "        -8.11647854e-06, -1.00146507e-05, -1.24208936e-05,\n",
       "        -1.55215636e-05, -1.96020398e-05, -2.51239880e-05,\n",
       "        -3.28875317e-05, -4.44079884e-05, -6.29155704e-05,\n",
       "        -9.65454176e-05, -1.71790215e-04, -4.26499879e-04,\n",
       "        -3.57377134e-03, -3.56991036e-03, -4.27077579e-04,\n",
       "        -1.72079999e-04, -9.67100497e-05, -6.30182834e-05,\n",
       "        -4.44761126e-05, -3.29346620e-05, -2.51576494e-05,\n",
       "        -1.96267273e-05, -1.55401134e-05, -1.24351679e-05,\n",
       "        -1.00259065e-05, -8.12558042e-06, -6.60669509e-06,\n",
       "        -5.37895702e-06, -4.37641826e-06, -3.54961834e-06,\n",
       "        -2.86057675e-06, -2.27947981e-06, -1.78241064e-06,\n",
       "        -1.34973993e-06, -9.64944483e-07, -6.13705974e-07,\n",
       "        -2.83192719e-07,  3.85431609e-08]])"
      ]
     },
     "execution_count": 9,
     "metadata": {},
     "output_type": "execute_result"
    }
   ],
   "source": [
    "soln"
   ]
  },
  {
   "cell_type": "code",
   "execution_count": 10,
   "id": "03f6973b",
   "metadata": {},
   "outputs": [
    {
     "data": {
      "text/plain": [
       "[<matplotlib.lines.Line2D at 0x1c3cd270340>]"
      ]
     },
     "execution_count": 10,
     "metadata": {},
     "output_type": "execute_result"
    },
    {
     "data": {
      "image/png": "[encoded data removed]",
      "text/plain": [
       "<Figure size 432x288 with 1 Axes>"
      ]
     },
     "metadata": {
      "needs_background": "light"
     },
     "output_type": "display_data"
    }
   ],
   "source": [
    "plt.plot(soln.x, soln.y[0, :])"
   ]
  },
  {
   "cell_type": "code",
   "execution_count": 11,
   "id": "572e7d35",
   "metadata": {},
   "outputs": [
    {
     "data": {
      "text/plain": [
       "[<matplotlib.lines.Line2D at 0x1c3cd9d6c40>]"
      ]
     },
     "execution_count": 11,
     "metadata": {},
     "output_type": "execute_result"
    },
    {
     "data": {
      "image/png": "[encoded data removed]",
      "text/plain": [
       "<Figure size 432x288 with 1 Axes>"
      ]
     },
     "metadata": {
      "needs_background": "light"
     },
     "output_type": "display_data"
    }
   ],
   "source": [
    "eta_zoom = np.linspace(-2, 2)\n",
    "plt.plot(eta_zoom, soln.sol(eta_zoom)[0, :])"
   ]
  },
  {
   "cell_type": "markdown",
   "id": "de5a2ca2",
   "metadata": {},
   "source": [
    "This is now FO form 2.13"
   ]
  },
  {
   "cell_type": "code",
   "execution_count": 12,
   "id": "f22b34b6",
   "metadata": {},
   "outputs": [],
   "source": [
    "Pi = sympy.Function('Pi')"
   ]
  },
  {
   "cell_type": "code",
   "execution_count": 13,
   "id": "25bf73c5",
   "metadata": {},
   "outputs": [],
   "source": [
    "zeta = 0.0001\n",
    "tau_Pi = 1\n",
    "V = 0\n",
    "def f_bvp(eta, q):#, p):\n",
    "    #V = p[0]\n",
    "    u, Pi = q\n",
    "    f = np.zeros_like(q)\n",
    "    f[0, :] = (zeta*Pi/tau_Pi) / ((V-2*u)*(V-u) - (Pi + (zeta/tau_Pi))) # du\n",
    "    f[1, :] = f[0, :]*(V-2*u) # dPi\n",
    "    return f\n",
    "def bcs(qa, qb):#, p):\n",
    "    return np.array([qa[0] - 1, qb[0] + 1])"
   ]
  },
  {
   "cell_type": "code",
   "execution_count": 14,
   "id": "32335960",
   "metadata": {},
   "outputs": [],
   "source": [
    "eta = np.linspace(-100, 100)\n",
    "q_guess = np.zeros((2, len(eta)))\n",
    "q_guess[0, :] = - eta / 100\n",
    "q_guess[1, :] = - 1 / 100"
   ]
  },
  {
   "cell_type": "code",
   "execution_count": 15,
   "id": "c0cb4634",
   "metadata": {},
   "outputs": [
    {
     "data": {
      "text/plain": [
       "True"
      ]
     },
     "execution_count": 15,
     "metadata": {},
     "output_type": "execute_result"
    }
   ],
   "source": [
    "#soln = solve_bvp(f_bvp, bcs, eta, q_guess, p = [0], tol=1e-1)\n",
    "soln = solve_bvp(f_bvp, bcs, eta, q_guess, tol=1e-1)\n",
    "soln.success"
   ]
  },
  {
   "cell_type": "code",
   "execution_count": 16,
   "id": "896d7624",
   "metadata": {},
   "outputs": [
    {
     "data": {
      "text/plain": [
       "[<matplotlib.lines.Line2D at 0x1c3cda43970>]"
      ]
     },
     "execution_count": 16,
     "metadata": {},
     "output_type": "execute_result"
    },
    {
     "data": {
      "image/png": "[encoded data removed]",
      "text/plain": [
       "<Figure size 432x288 with 1 Axes>"
      ]
     },
     "metadata": {
      "needs_background": "light"
     },
     "output_type": "display_data"
    }
   ],
   "source": [
    "plt.plot(soln.x, soln.y[0, :])"
   ]
  },
  {
   "cell_type": "code",
   "execution_count": 17,
   "id": "2567562f",
   "metadata": {},
   "outputs": [
    {
     "data": {
      "text/plain": [
       "[<matplotlib.lines.Line2D at 0x1c3cea7d280>]"
      ]
     },
     "execution_count": 17,
     "metadata": {},
     "output_type": "execute_result"
    },
    {
     "data": {
      "image/png": "[encoded data removed]",
      "text/plain": [
       "<Figure size 432x288 with 1 Axes>"
      ]
     },
     "metadata": {
      "needs_background": "light"
     },
     "output_type": "display_data"
    }
   ],
   "source": [
    "plt.plot(soln.x, soln.y[1, :])"
   ]
  },
  {
   "cell_type": "code",
   "execution_count": 18,
   "id": "ae3343be",
   "metadata": {},
   "outputs": [
    {
     "data": {
      "text/plain": [
       "[<matplotlib.lines.Line2D at 0x1c3cead2d90>]"
      ]
     },
     "execution_count": 18,
     "metadata": {},
     "output_type": "execute_result"
    },
    {
     "data": {
      "image/png": "[encoded data removed]",
      "text/plain": [
       "<Figure size 432x288 with 1 Axes>"
      ]
     },
     "metadata": {
      "needs_background": "light"
     },
     "output_type": "display_data"
    }
   ],
   "source": [
    "eta_zoom = np.linspace(-2, 2)\n",
    "plt.plot(eta_zoom, soln.sol(eta_zoom)[0, :])"
   ]
  },
  {
   "cell_type": "code",
   "execution_count": 19,
   "id": "f87ea201",
   "metadata": {},
   "outputs": [
    {
     "data": {
      "text/plain": [
       "[<matplotlib.lines.Line2D at 0x1c3ceb37a00>]"
      ]
     },
     "execution_count": 19,
     "metadata": {},
     "output_type": "execute_result"
    },
    {
     "data": {
      "image/png": "[encoded data removed]",
      "text/plain": [
       "<Figure size 432x288 with 1 Axes>"
      ]
     },
     "metadata": {
      "needs_background": "light"
     },
     "output_type": "display_data"
    }
   ],
   "source": [
    "plt.plot(eta_zoom, soln.sol(eta_zoom)[1, :])"
   ]
  },
  {
   "cell_type": "markdown",
   "id": "4d0a927f",
   "metadata": {},
   "source": [
    "This is now FO form 2.16 & 2.13b"
   ]
  },
  {
   "cell_type": "code",
   "execution_count": 69,
   "id": "db7e25d9",
   "metadata": {},
   "outputs": [],
   "source": [
    "zeta = 0.001\n",
    "tau_Pi = 1\n",
    "V = 0\n",
    "def f_bvp(eta, q, p):\n",
    "    V = p[0]\n",
    "    u, du, ddu, Pi = q\n",
    "    f = np.zeros_like(q)\n",
    "    f[0, :] = du\n",
    "    f[1, :] = ddu\n",
    "    f[2, :] = ( ((zeta/tau_Pi)*((2*u - V)*du - ddu) - du*ddu) / u) # dddu\n",
    "    f[3, :] = du*(V-2*u) # dPi\n",
    "    return f\n",
    "def bcs(qa, qb, p):\n",
    "    return np.array([qa[0] - 1, qb[0] + 1, qa[3], qb[3], qa[1]+qb[1]])"
   ]
  },
  {
   "cell_type": "code",
   "execution_count": 70,
   "id": "4a43e311",
   "metadata": {},
   "outputs": [],
   "source": [
    "eta = np.linspace(-100, 100)\n",
    "q_guess = np.zeros((4, len(eta)))\n",
    "q_guess[0, :] = - eta / 100\n",
    "q_guess[1, :] = - 1 / 100\n",
    "q_guess[3, :] = - 1 / 100"
   ]
  },
  {
   "cell_type": "code",
   "execution_count": 92,
   "id": "f2c7f6cf",
   "metadata": {},
   "outputs": [
    {
     "data": {
      "text/plain": [
       "True"
      ]
     },
     "execution_count": 92,
     "metadata": {},
     "output_type": "execute_result"
    }
   ],
   "source": [
    "soln = solve_bvp(f_bvp, bcs, eta, q_guess, p = [0], tol=1e-1)\n",
    "# soln = solve_bvp(f_bvp, bcs, eta, q_guess, tol=1e-2)\n",
    "soln.success"
   ]
  },
  {
   "cell_type": "code",
   "execution_count": 93,
   "id": "f7eedcf4",
   "metadata": {},
   "outputs": [
    {
     "data": {
      "text/plain": [
       "       message: 'The algorithm converged to the desired accuracy.'\n",
       "         niter: 1\n",
       "             p: array([3.41614584e-06])\n",
       " rms_residuals: array([1.34075568e-06, 3.83110959e-06, 6.25392401e-06, 8.86848774e-06,\n",
       "       1.19248300e-05, 1.56849516e-05, 2.04412799e-05, 2.65309307e-05,\n",
       "       3.43451914e-05, 4.43305798e-05, 5.69748567e-05, 7.27666051e-05,\n",
       "       9.21096599e-05, 1.15162655e-04, 1.41557584e-04, 1.69927852e-04,\n",
       "       1.97144470e-04, 2.17121290e-04, 2.19022558e-04, 1.84759800e-04,\n",
       "       8.61438676e-05, 1.17304823e-04, 4.62162151e-04, 1.00136050e-03,\n",
       "       7.14210245e-03, 7.91486368e-04, 3.09039608e-04, 2.73309300e-05,\n",
       "       1.25946064e-04, 1.85748673e-04, 1.93144561e-04, 1.74059166e-04,\n",
       "       1.44259846e-04, 1.12589152e-04, 8.35406866e-05, 5.90244912e-05,\n",
       "       3.95033230e-05, 2.46935012e-05, 1.39796725e-05, 6.64797676e-06,\n",
       "       2.00837005e-06, 5.83114506e-07, 1.59851254e-06, 1.52969317e-06,\n",
       "       7.65131660e-07, 3.49078902e-07, 1.35090519e-06, 1.79475033e-06,\n",
       "       1.01925282e-06])\n",
       "           sol: <scipy.interpolate.interpolate.PPoly object at 0x000001C3D0920720>\n",
       "        status: 0\n",
       "       success: True\n",
       "             x: array([-100.        ,  -95.91836735,  -91.83673469,  -87.75510204,\n",
       "        -83.67346939,  -79.59183673,  -75.51020408,  -71.42857143,\n",
       "        -67.34693878,  -63.26530612,  -59.18367347,  -55.10204082,\n",
       "        -51.02040816,  -46.93877551,  -42.85714286,  -38.7755102 ,\n",
       "        -34.69387755,  -30.6122449 ,  -26.53061224,  -22.44897959,\n",
       "        -18.36734694,  -14.28571429,  -10.20408163,   -6.12244898,\n",
       "         -2.04081633,    2.04081633,    6.12244898,   10.20408163,\n",
       "         14.28571429,   18.36734694,   22.44897959,   26.53061224,\n",
       "         30.6122449 ,   34.69387755,   38.7755102 ,   42.85714286,\n",
       "         46.93877551,   51.02040816,   55.10204082,   59.18367347,\n",
       "         63.26530612,   67.34693878,   71.42857143,   75.51020408,\n",
       "         79.59183673,   83.67346939,   87.75510204,   91.83673469,\n",
       "         95.91836735,  100.        ])\n",
       "             y: array([[ 1.00000000e+00,  9.97350473e-01,  9.94446784e-01,\n",
       "         9.91192160e-01,  9.87478202e-01,  9.83181139e-01,\n",
       "         9.78157503e-01,  9.72239055e-01,  9.65226729e-01,\n",
       "         9.56883319e-01,  9.46924528e-01,  9.35007884e-01,\n",
       "         9.20718855e-01,  9.03553183e-01,  8.82894078e-01,\n",
       "         8.57982146e-01,  8.27874790e-01,  7.91389675e-01,\n",
       "         7.47022820e-01,  6.92823643e-01,  6.26190672e-01,\n",
       "         5.43504058e-01,  4.39365941e-01,  3.04650149e-01,\n",
       "         1.20664611e-01, -1.29981976e-01, -3.17408101e-01,\n",
       "        -4.54737920e-01, -5.60952138e-01, -6.45280460e-01,\n",
       "        -7.13204320e-01, -7.68405580e-01, -8.13531183e-01,\n",
       "        -8.50564651e-01, -8.81033066e-01, -9.06133802e-01,\n",
       "        -9.26817545e-01, -9.43845498e-01, -9.57830275e-01,\n",
       "        -9.69265981e-01, -9.78550773e-01, -9.86004024e-01,\n",
       "        -9.91879450e-01, -9.96375168e-01, -9.99641310e-01,\n",
       "        -1.00178565e+00, -1.00287758e+00, -1.00295058e+00,\n",
       "        -1.00200340e+00, -1.00000000e+00],\n",
       "       [-6.25357230e-04, -6.76513559e-04, -7.50234352e-04,\n",
       "        -8.48945267e-04, -9.75933491e-04, -1.13546839e-03,\n",
       "        -1.33296242e-03, -1.57518106e-03, -1.87051440e-03,\n",
       "        -2.22932787e-03, -2.66441737e-03, -3.19160544e-03,\n",
       "        -3.83053306e-03, -4.60573101e-03, -5.54810367e-03,\n",
       "        -6.69704518e-03, -8.10356840e-03, -9.83514335e-03,\n",
       "        -1.19836094e-02, -1.46790669e-02, -1.81166340e-02,\n",
       "        -2.26149018e-02, -2.87692680e-02, -3.79930613e-02,\n",
       "        -5.56251884e-02, -5.64447438e-02, -3.87055902e-02,\n",
       "        -2.93393569e-02, -2.30664229e-02, -1.84729483e-02,\n",
       "        -1.49578017e-02, -1.21977381e-02, -9.99413756e-03,\n",
       "        -8.21420460e-03, -6.76393836e-03, -5.57405208e-03,\n",
       "        -4.59192842e-03, -3.77668308e-03, -3.09595795e-03,\n",
       "        -2.52373825e-03, -2.03880692e-03, -1.62361205e-03,\n",
       "        -1.26341077e-03, -9.45602591e-04, -6.59194554e-04,\n",
       "        -3.94358132e-04, -1.42049174e-04,  1.06331059e-04,\n",
       "         3.59251312e-04,  6.25357230e-04],\n",
       "       [-9.91899146e-06, -1.52148238e-05, -2.10071186e-05,\n",
       "        -2.74950479e-05, -3.49029697e-05, -4.34894303e-05,\n",
       "        -5.35579808e-05, -6.54705605e-05, -7.96644911e-05,\n",
       "        -9.66745925e-05, -1.17162674e-04, -1.41957869e-04,\n",
       "        -1.72113341e-04, -2.08988476e-04, -2.54372259e-04,\n",
       "        -3.10676039e-04, -3.81249364e-04, -4.70927522e-04,\n",
       "        -5.87048748e-04, -7.41515072e-04, -9.55466427e-04,\n",
       "        -1.27165624e-03, -1.79569996e-03, -2.90053942e-03,\n",
       "        -7.99458312e-03,  7.80335310e-03,  2.93539987e-03,\n",
       "         1.82799591e-03,  1.29760094e-03,  9.76415313e-04,\n",
       "         7.58769323e-04,  6.01593194e-04,  4.83508110e-04,\n",
       "         3.92451830e-04,  3.20981390e-04,  2.64195036e-04,\n",
       "         2.18704276e-04,  1.82079899e-04,  1.52532478e-04,\n",
       "         1.28717714e-04,  1.09612447e-04,  9.44327864e-05,\n",
       "         8.25785536e-05,  7.35948336e-05,  6.71451504e-05,\n",
       "         6.29928529e-05,  6.09885851e-05,  6.10624988e-05,\n",
       "         6.32204004e-05,  6.75433836e-05],\n",
       "       [ 0.00000000e+00,  5.29702639e-03,  1.10948707e-02,\n",
       "         1.75807076e-02,  2.49624962e-02,  3.34750520e-02,\n",
       "         4.33866681e-02,  5.50063480e-02,  6.86916482e-02,\n",
       "         8.48570435e-02,  1.03982577e-01,  1.26622307e-01,\n",
       "         1.53411681e-01,  1.85072309e-01,  2.22411614e-01,\n",
       "         2.66313165e-01,  3.17710780e-01,  3.77534897e-01,\n",
       "         4.46611793e-01,  5.25481788e-01,  6.14074634e-01,\n",
       "         7.11120641e-01,  8.13029063e-01,  9.11502852e-01,\n",
       "         9.86511033e-01,  9.83812058e-01,  9.02403999e-01,\n",
       "         7.97536071e-01,  6.89749661e-01,  5.87549052e-01,\n",
       "         4.94567553e-01,  4.12046553e-01,  3.40000660e-01,\n",
       "         2.77827668e-01,  2.24643598e-01,  1.79469618e-01,\n",
       "         1.41335286e-01,  1.09333330e-01,  8.26461659e-02,\n",
       "         6.05560566e-02,  4.24460777e-02,  2.77962438e-02,\n",
       "         1.61774367e-02,  7.24474028e-03,  7.31149027e-04,\n",
       "        -3.55777748e-03, -5.74797011e-03, -5.89940896e-03,\n",
       "        -4.00704806e-03,  0.00000000e+00]])\n",
       "            yp: array([[-6.25357230e-04, -6.76513559e-04, -7.50234352e-04,\n",
       "        -8.48945267e-04, -9.75933491e-04, -1.13546839e-03,\n",
       "        -1.33296242e-03, -1.57518106e-03, -1.87051440e-03,\n",
       "        -2.22932787e-03, -2.66441737e-03, -3.19160544e-03,\n",
       "        -3.83053306e-03, -4.60573101e-03, -5.54810367e-03,\n",
       "        -6.69704518e-03, -8.10356840e-03, -9.83514335e-03,\n",
       "        -1.19836094e-02, -1.46790669e-02, -1.81166340e-02,\n",
       "        -2.26149018e-02, -2.87692680e-02, -3.79930613e-02,\n",
       "        -5.56251884e-02, -5.64447438e-02, -3.87055902e-02,\n",
       "        -2.93393569e-02, -2.30664229e-02, -1.84729483e-02,\n",
       "        -1.49578017e-02, -1.21977381e-02, -9.99413756e-03,\n",
       "        -8.21420460e-03, -6.76393836e-03, -5.57405208e-03,\n",
       "        -4.59192842e-03, -3.77668308e-03, -3.09595795e-03,\n",
       "        -2.52373825e-03, -2.03880692e-03, -1.62361205e-03,\n",
       "        -1.26341077e-03, -9.45602591e-04, -6.59194554e-04,\n",
       "        -3.94358132e-04, -1.42049174e-04,  1.06331059e-04,\n",
       "         3.59251312e-04,  6.25357230e-04],\n",
       "       [-9.91899146e-06, -1.52148238e-05, -2.10071186e-05,\n",
       "        -2.74950479e-05, -3.49029697e-05, -4.34894303e-05,\n",
       "        -5.35579808e-05, -6.54705605e-05, -7.96644911e-05,\n",
       "        -9.66745925e-05, -1.17162674e-04, -1.41957869e-04,\n",
       "        -1.72113341e-04, -2.08988476e-04, -2.54372259e-04,\n",
       "        -3.10676039e-04, -3.81249364e-04, -4.70927522e-04,\n",
       "        -5.87048748e-04, -7.41515072e-04, -9.55466427e-04,\n",
       "        -1.27165624e-03, -1.79569996e-03, -2.90053942e-03,\n",
       "        -7.99458312e-03,  7.80335310e-03,  2.93539987e-03,\n",
       "         1.82799591e-03,  1.29760094e-03,  9.76415313e-04,\n",
       "         7.58769323e-04,  6.01593194e-04,  4.83508110e-04,\n",
       "         3.92451830e-04,  3.20981390e-04,  2.64195036e-04,\n",
       "         2.18704276e-04,  1.82079899e-04,  1.52532478e-04,\n",
       "         1.28717714e-04,  1.09612447e-04,  9.44327864e-05,\n",
       "         8.25785536e-05,  7.35948336e-05,  6.71451504e-05,\n",
       "         6.29928529e-05,  6.09885851e-05,  6.10624988e-05,\n",
       "         6.32204004e-05,  6.75433836e-05],\n",
       "       [-1.24699624e-06, -1.34808994e-06, -1.49518997e-06,\n",
       "        -1.69369744e-06, -1.95101296e-06, -2.27692507e-06,\n",
       "        -2.68415119e-06, -3.18908927e-06, -3.81286964e-06,\n",
       "        -4.58284764e-06, -5.53476297e-06, -6.71594041e-06,\n",
       "        -8.19017380e-06, -1.00454367e-05, -1.24065485e-05,\n",
       "        -1.54569684e-05, -1.94784084e-05, -2.49277202e-05,\n",
       "        -3.25986462e-05, -4.39984889e-05, -6.23504046e-05,\n",
       "        -9.58028346e-05, -1.71032029e-04, -4.28192425e-04,\n",
       "        -3.73041773e-03, -3.44146718e-03, -4.26114053e-04,\n",
       "        -1.72600000e-04, -9.71772896e-05, -6.33854350e-05,\n",
       "        -4.47652090e-05, -3.31623631e-05, -2.53338263e-05,\n",
       "        -1.97570872e-05, -1.56278434e-05, -1.24817492e-05,\n",
       "        -1.00314733e-05, -8.08903759e-06, -6.52570388e-06,\n",
       "        -5.24983657e-06, -4.19398301e-06, -3.30695507e-06,\n",
       "        -2.54875605e-06, -1.88719049e-06, -1.29549972e-06,\n",
       "        -7.50634502e-07, -2.31923762e-07,  2.80019079e-07,\n",
       "         8.04264447e-07,  1.36049872e-06],\n",
       "       [ 1.25071232e-03,  1.34943993e-03,  1.49213371e-03,\n",
       "         1.68293288e-03,  1.92742276e-03,  2.23273834e-03,\n",
       "         2.60768983e-03,  3.06289971e-03,  3.61093460e-03,\n",
       "         4.26640569e-03,  5.04599523e-03,  5.96834160e-03,\n",
       "         7.05367494e-03,  8.32303010e-03,  9.79675680e-03,\n",
       "         1.14918675e-02,  1.34174523e-02,  1.55668282e-02,\n",
       "         1.79040185e-02,  2.03399590e-02,  2.26888726e-02,\n",
       "         2.45825045e-02,  2.52803747e-02,  2.31490538e-02,\n",
       "         1.34237934e-02, -1.46737915e-02, -2.45710680e-02,\n",
       "        -2.66835365e-02, -2.58783973e-02, -2.38405283e-02,\n",
       "        -2.13359887e-02, -1.87456618e-02, -1.62611192e-02,\n",
       "        -1.39734522e-02, -1.19185298e-02, -1.01016930e-02,\n",
       "        -8.51177534e-03, -7.12922354e-03, -5.93081508e-03,\n",
       "        -4.89235588e-03, -3.99015915e-03, -3.20178158e-03,\n",
       "        -2.50630667e-03, -1.88435311e-03, -1.31791847e-03,\n",
       "        -7.90125984e-04, -2.84916348e-04,  2.13289958e-04,\n",
       "         7.19943301e-04,  1.25071660e-03]])"
      ]
     },
     "execution_count": 93,
     "metadata": {},
     "output_type": "execute_result"
    }
   ],
   "source": [
    "soln"
   ]
  },
  {
   "cell_type": "code",
   "execution_count": 98,
   "id": "b9d693c1",
   "metadata": {},
   "outputs": [
    {
     "data": {
      "text/plain": [
       "[<matplotlib.lines.Line2D at 0x1c3d0b04700>]"
      ]
     },
     "execution_count": 98,
     "metadata": {},
     "output_type": "execute_result"
    },
    {
     "data": {
      "image/png": "[encoded data removed]",
      "text/plain": [
       "<Figure size 432x288 with 1 Axes>"
      ]
     },
     "metadata": {
      "needs_background": "light"
     },
     "output_type": "display_data"
    }
   ],
   "source": [
    "plt.plot(soln.x, soln.y[0, :])"
   ]
  },
  {
   "cell_type": "code",
   "execution_count": 95,
   "id": "cfe14fbc",
   "metadata": {},
   "outputs": [
    {
     "data": {
      "text/plain": [
       "[<matplotlib.lines.Line2D at 0x1c3d09e5580>]"
      ]
     },
     "execution_count": 95,
     "metadata": {},
     "output_type": "execute_result"
    },
    {
     "data": {
      "image/png": "[encoded data removed]",
      "text/plain": [
       "<Figure size 432x288 with 1 Axes>"
      ]
     },
     "metadata": {
      "needs_background": "light"
     },
     "output_type": "display_data"
    }
   ],
   "source": [
    "plt.plot(soln.x, soln.y[3, :])"
   ]
  },
  {
   "cell_type": "code",
   "execution_count": 96,
   "id": "132c3e2d",
   "metadata": {},
   "outputs": [
    {
     "data": {
      "text/plain": [
       "[<matplotlib.lines.Line2D at 0x1c3d0a3dd30>]"
      ]
     },
     "execution_count": 96,
     "metadata": {},
     "output_type": "execute_result"
    },
    {
     "data": {
      "image/png": "[encoded data removed]",
      "text/plain": [
       "<Figure size 432x288 with 1 Axes>"
      ]
     },
     "metadata": {
      "needs_background": "light"
     },
     "output_type": "display_data"
    }
   ],
   "source": [
    "plt.plot(eta_zoom, soln.sol(eta_zoom)[0, :])"
   ]
  },
  {
   "cell_type": "code",
   "execution_count": 97,
   "id": "4ba7b998",
   "metadata": {},
   "outputs": [
    {
     "data": {
      "text/plain": [
       "[<matplotlib.lines.Line2D at 0x1c3d0a97f10>]"
      ]
     },
     "execution_count": 97,
     "metadata": {},
     "output_type": "execute_result"
    },
    {
     "data": {
      "image/png": "[encoded data removed]",
      "text/plain": [
       "<Figure size 432x288 with 1 Axes>"
      ]
     },
     "metadata": {
      "needs_background": "light"
     },
     "output_type": "display_data"
    }
   ],
   "source": [
    "plt.plot(eta_zoom, soln.sol(eta_zoom)[3, :])"
   ]
  },
  {
   "cell_type": "code",
   "execution_count": null,
   "id": "d107f706",
   "metadata": {},
   "outputs": [],
   "source": []
  },
  {
   "cell_type": "code",
   "execution_count": null,
   "id": "a867b083",
   "metadata": {},
   "outputs": [],
   "source": []
  },
  {
   "cell_type": "code",
   "execution_count": null,
   "id": "9c23b393",
   "metadata": {},
   "outputs": [],
   "source": []
  },
  {
   "cell_type": "code",
   "execution_count": null,
   "id": "8a410990",
   "metadata": {},
   "outputs": [],
   "source": []
  }
 ],
 "metadata": {
  "kernelspec": {
   "display_name": "Python 3",
   "language": "python",
   "name": "python3"
  },
  "language_info": {
   "codemirror_mode": {
    "name": "ipython",
    "version": 3
   },
   "file_extension": ".py",
   "mimetype": "text/x-python",
   "name": "python",
   "nbconvert_exporter": "python",
   "pygments_lexer": "ipython3",
   "version": "3.8.8"
  }
 },
 "nbformat": 4,
 "nbformat_minor": 5
}
