{
 "cells": [
  {
   "cell_type": "code",
   "execution_count": 18,
   "id": "6e303c91",
   "metadata": {},
   "outputs": [],
   "source": [
    "import numpy as np\n",
    "import sympy\n",
    "sympy.init_printing()\n",
    "from scipy.optimize import brentq, newton, minimize_scalar\n",
    "from scipy.integrate import solve_ivp, solve_bvp\n",
    "from scipy.special import erf\n",
    "import matplotlib.pyplot as plt"
   ]
  },
  {
   "cell_type": "code",
   "execution_count": 19,
   "id": "333da8f6",
   "metadata": {},
   "outputs": [],
   "source": [
    "x, t = sympy.symbols('x t')\n",
    "v = sympy.Function('v')\n",
    "w = sympy.Function('w')\n",
    "Pi = sympy.Function('Pi')\n",
    "\n",
    "# for differencing systems\n",
    "v1 = sympy.Function('v1') \n",
    "v2 = sympy.Function('v2')\n",
    "Pi1 = sympy.Function('Pi1')\n",
    "Pi2 = sympy.Function('Pi2')\n",
    "\n",
    "zeta = sympy.symbols('zeta', positive=True)\n",
    "tau_Pi = sympy.symbols('tau_Pi', positive=True)\n",
    "U, eta = sympy.symbols('U eta')\n",
    "#U = 0\n",
    "#tau_Pi, zeta = 1, 1"
   ]
  },
  {
   "cell_type": "code",
   "execution_count": 20,
   "id": "4a071401",
   "metadata": {},
   "outputs": [],
   "source": [
    "def f_bvp_generator_n(V, n=1):\n",
    "    def f_bvp_fn(eta, q):\n",
    "        u, du = q\n",
    "        f = np.zeros_like(q)\n",
    "        f[0, :] = du\n",
    "        f[1, :] = n * u**(n-1) * (-V + u) * du # a = f' = u\n",
    "        return f\n",
    "    return f_bvp_fn"
   ]
  },
  {
   "cell_type": "code",
   "execution_count": 21,
   "id": "1a805740",
   "metadata": {},
   "outputs": [],
   "source": [
    "ql = 3\n",
    "qr = 1\n",
    "def bcs(qa, qb):\n",
    "    return np.array([qa[0] - ql, qb[0] - qr])\n",
    "V_guess = (ql+qr)/2"
   ]
  },
  {
   "cell_type": "code",
   "execution_count": 22,
   "id": "1d5c4e45",
   "metadata": {},
   "outputs": [],
   "source": [
    "# Make initial guess be a straight line as it's easy to take the derivative\n",
    "xi = np.linspace(-100, 100, 1000)\n",
    "q_guess = np.zeros((2, len(xi)))\n",
    "# This is now much closer to the \"true\" solution\n",
    "smooth = 4\n",
    "q_guess[0, :] = ql + (qr - ql) * (erf(xi/smooth) + 1)/2\n",
    "q_guess[1, :] = (qr - ql) * np.exp(-xi**2/smooth**2) / np.sqrt(np.pi) / smooth"
   ]
  },
  {
   "cell_type": "code",
   "execution_count": 23,
   "id": "d65c7a2a",
   "metadata": {},
   "outputs": [
    {
     "data": {
      "text/plain": [
       "[<matplotlib.lines.Line2D at 0x25d2cd32130>]"
      ]
     },
     "execution_count": 23,
     "metadata": {},
     "output_type": "execute_result"
    },
    {
     "data": {
      "image/png": "[encoded data removed]",
      "text/plain": [
       "<Figure size 432x288 with 1 Axes>"
      ]
     },
     "metadata": {
      "needs_background": "light"
     },
     "output_type": "display_data"
    }
   ],
   "source": [
    "plt.plot(xi, q_guess[0, :])"
   ]
  },
  {
   "cell_type": "code",
   "execution_count": 24,
   "id": "132e206a",
   "metadata": {},
   "outputs": [
    {
     "data": {
      "text/plain": [
       "[<matplotlib.lines.Line2D at 0x25d2ce12df0>]"
      ]
     },
     "execution_count": 24,
     "metadata": {},
     "output_type": "execute_result"
    },
    {
     "data": {
      "image/png": "[encoded data removed]",
      "text/plain": [
       "<Figure size 432x288 with 1 Axes>"
      ]
     },
     "metadata": {
      "needs_background": "light"
     },
     "output_type": "display_data"
    }
   ],
   "source": [
    "plt.plot(xi, q_guess[1, :])"
   ]
  },
  {
   "cell_type": "code",
   "execution_count": 26,
   "id": "73b90708",
   "metadata": {},
   "outputs": [
    {
     "data": {
      "text/plain": [
       "True"
      ]
     },
     "execution_count": 26,
     "metadata": {},
     "output_type": "execute_result"
    }
   ],
   "source": [
    "n = 1\n",
    "soln = solve_bvp(f_bvp_generator_n(V_guess, n=n), bcs, xi, q_guess)\n",
    "soln.success"
   ]
  },
  {
   "cell_type": "code",
   "execution_count": 27,
   "id": "5eb40f91",
   "metadata": {},
   "outputs": [
    {
     "ename": "NameError",
     "evalue": "name 'eta_plot' is not defined",
     "output_type": "error",
     "traceback": [
      "\u001b[1;31m---------------------------------------------------------------------------\u001b[0m",
      "\u001b[1;31mNameError\u001b[0m                                 Traceback (most recent call last)",
      "\u001b[1;32m<ipython-input-27-33c98d15a524>\u001b[0m in \u001b[0;36m<module>\u001b[1;34m\u001b[0m\n\u001b[0;32m      1\u001b[0m \u001b[0mxi_plot\u001b[0m \u001b[1;33m=\u001b[0m \u001b[0mnp\u001b[0m\u001b[1;33m.\u001b[0m\u001b[0mlinspace\u001b[0m\u001b[1;33m(\u001b[0m\u001b[1;33m-\u001b[0m\u001b[1;36m100\u001b[0m\u001b[1;33m,\u001b[0m \u001b[1;36m100\u001b[0m\u001b[1;33m,\u001b[0m \u001b[1;36m1000\u001b[0m\u001b[1;33m)\u001b[0m\u001b[1;33m\u001b[0m\u001b[1;33m\u001b[0m\u001b[0m\n\u001b[1;32m----> 2\u001b[1;33m \u001b[0mplt\u001b[0m\u001b[1;33m.\u001b[0m\u001b[0mplot\u001b[0m\u001b[1;33m(\u001b[0m\u001b[0mxi_plot\u001b[0m\u001b[1;33m,\u001b[0m \u001b[0msoln\u001b[0m\u001b[1;33m.\u001b[0m\u001b[0msol\u001b[0m\u001b[1;33m(\u001b[0m\u001b[0meta_plot\u001b[0m\u001b[1;33m)\u001b[0m\u001b[1;33m[\u001b[0m\u001b[1;36m0\u001b[0m\u001b[1;33m,\u001b[0m \u001b[1;33m:\u001b[0m\u001b[1;33m]\u001b[0m\u001b[1;33m,\u001b[0m \u001b[0mlabel\u001b[0m\u001b[1;33m=\u001b[0m\u001b[1;34mfr\"$n={n}, V={V_guess:.2f}$\"\u001b[0m\u001b[1;33m)\u001b[0m\u001b[1;33m\u001b[0m\u001b[1;33m\u001b[0m\u001b[0m\n\u001b[0m\u001b[0;32m      3\u001b[0m \u001b[0mplt\u001b[0m\u001b[1;33m.\u001b[0m\u001b[0mlegend\u001b[0m\u001b[1;33m(\u001b[0m\u001b[1;33m)\u001b[0m\u001b[1;33m\u001b[0m\u001b[1;33m\u001b[0m\u001b[0m\n\u001b[0;32m      4\u001b[0m \u001b[0mplt\u001b[0m\u001b[1;33m.\u001b[0m\u001b[0mxlabel\u001b[0m\u001b[1;33m(\u001b[0m\u001b[1;34mr\"$\\xi$\"\u001b[0m\u001b[1;33m)\u001b[0m\u001b[1;33m\u001b[0m\u001b[1;33m\u001b[0m\u001b[0m\n\u001b[0;32m      5\u001b[0m \u001b[0mplt\u001b[0m\u001b[1;33m.\u001b[0m\u001b[0mshow\u001b[0m\u001b[1;33m(\u001b[0m\u001b[1;33m)\u001b[0m\u001b[1;33m\u001b[0m\u001b[1;33m\u001b[0m\u001b[0m\n",
      "\u001b[1;31mNameError\u001b[0m: name 'eta_plot' is not defined"
     ]
    }
   ],
   "source": [
    "xi_plot = np.linspace(-100, 100, 1000)\n",
    "plt.plot(xi_plot, soln.sol(eta_plot)[0, :], label=fr\"$n={n}, V={V_guess:.2f}$\")\n",
    "plt.legend()\n",
    "plt.xlabel(r\"$\\xi$\")\n",
    "plt.show()"
   ]
  },
  {
   "cell_type": "code",
   "execution_count": null,
   "id": "1e706bdb",
   "metadata": {},
   "outputs": [],
   "source": [
    "soln_V0 = solve_bvp(f_bvp_generator_n(1.99999, n=n), bcs, xi, q_guess)\n",
    "soln_V0.success"
   ]
  },
  {
   "cell_type": "code",
   "execution_count": 28,
   "id": "9a3d13bd",
   "metadata": {},
   "outputs": [
    {
     "ename": "NameError",
     "evalue": "name 'soln_V0' is not defined",
     "output_type": "error",
     "traceback": [
      "\u001b[1;31m---------------------------------------------------------------------------\u001b[0m",
      "\u001b[1;31mNameError\u001b[0m                                 Traceback (most recent call last)",
      "\u001b[1;32m<ipython-input-28-02256f4b5ac7>\u001b[0m in \u001b[0;36m<module>\u001b[1;34m\u001b[0m\n\u001b[0;32m      1\u001b[0m \u001b[0mxi_plot\u001b[0m \u001b[1;33m=\u001b[0m \u001b[0mnp\u001b[0m\u001b[1;33m.\u001b[0m\u001b[0mlinspace\u001b[0m\u001b[1;33m(\u001b[0m\u001b[1;33m-\u001b[0m\u001b[1;36m100\u001b[0m\u001b[1;33m,\u001b[0m \u001b[1;36m100\u001b[0m\u001b[1;33m,\u001b[0m \u001b[1;36m1000\u001b[0m\u001b[1;33m)\u001b[0m\u001b[1;33m\u001b[0m\u001b[1;33m\u001b[0m\u001b[0m\n\u001b[1;32m----> 2\u001b[1;33m \u001b[0mplt\u001b[0m\u001b[1;33m.\u001b[0m\u001b[0mplot\u001b[0m\u001b[1;33m(\u001b[0m\u001b[0mxi_plot\u001b[0m\u001b[1;33m,\u001b[0m \u001b[0msoln_V0\u001b[0m\u001b[1;33m.\u001b[0m\u001b[0msol\u001b[0m\u001b[1;33m(\u001b[0m\u001b[0meta_plot\u001b[0m\u001b[1;33m)\u001b[0m\u001b[1;33m[\u001b[0m\u001b[1;36m0\u001b[0m\u001b[1;33m,\u001b[0m \u001b[1;33m:\u001b[0m\u001b[1;33m]\u001b[0m\u001b[1;33m,\u001b[0m \u001b[0mlabel\u001b[0m\u001b[1;33m=\u001b[0m\u001b[1;34mfr\"$n={n}, V={V_guess:.2f}$\"\u001b[0m\u001b[1;33m)\u001b[0m\u001b[1;33m\u001b[0m\u001b[1;33m\u001b[0m\u001b[0m\n\u001b[0m\u001b[0;32m      3\u001b[0m \u001b[0mplt\u001b[0m\u001b[1;33m.\u001b[0m\u001b[0mlegend\u001b[0m\u001b[1;33m(\u001b[0m\u001b[1;33m)\u001b[0m\u001b[1;33m\u001b[0m\u001b[1;33m\u001b[0m\u001b[0m\n\u001b[0;32m      4\u001b[0m \u001b[0mplt\u001b[0m\u001b[1;33m.\u001b[0m\u001b[0mxlabel\u001b[0m\u001b[1;33m(\u001b[0m\u001b[1;34mr\"$\\xi$\"\u001b[0m\u001b[1;33m)\u001b[0m\u001b[1;33m\u001b[0m\u001b[1;33m\u001b[0m\u001b[0m\n\u001b[0;32m      5\u001b[0m \u001b[0mplt\u001b[0m\u001b[1;33m.\u001b[0m\u001b[0mshow\u001b[0m\u001b[1;33m(\u001b[0m\u001b[1;33m)\u001b[0m\u001b[1;33m\u001b[0m\u001b[1;33m\u001b[0m\u001b[0m\n",
      "\u001b[1;31mNameError\u001b[0m: name 'soln_V0' is not defined"
     ]
    }
   ],
   "source": [
    "xi_plot = np.linspace(-100, 100, 1000)\n",
    "plt.plot(xi_plot, soln_V0.sol(eta_plot)[0, :], label=fr\"$n={n}, V={V_guess:.2f}$\")\n",
    "plt.legend()\n",
    "plt.xlabel(r\"$\\xi$\")\n",
    "plt.show()"
   ]
  },
  {
   "cell_type": "code",
   "execution_count": null,
   "id": "84eabfe9",
   "metadata": {},
   "outputs": [],
   "source": []
  }
 ],
 "metadata": {
  "kernelspec": {
   "display_name": "Python 3",
   "language": "python",
   "name": "python3"
  },
  "language_info": {
   "codemirror_mode": {
    "name": "ipython",
    "version": 3
   },
   "file_extension": ".py",
   "mimetype": "text/x-python",
   "name": "python",
   "nbconvert_exporter": "python",
   "pygments_lexer": "ipython3",
   "version": "3.8.10"
  }
 },
 "nbformat": 4,
 "nbformat_minor": 5
}
