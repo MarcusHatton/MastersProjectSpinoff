{
 "cells": [
  {
   "cell_type": "code",
   "execution_count": 2,
   "id": "583d5691",
   "metadata": {},
   "outputs": [],
   "source": [
    "import sympy"
   ]
  },
  {
   "cell_type": "code",
   "execution_count": 3,
   "id": "9b68e81b",
   "metadata": {},
   "outputs": [],
   "source": [
    "sympy.init_printing()"
   ]
  },
  {
   "cell_type": "code",
   "execution_count": 37,
   "id": "11f650ce",
   "metadata": {},
   "outputs": [],
   "source": [
    "x, t = sympy.symbols('x t')\n",
    "T = sympy.Function('T')\n",
    "q = sympy.Function('q')\n",
    "kappa = sympy.symbols('kappa', positive=True)\n",
    "tau_q = sympy.symbols('tau_q', positive=True)\n",
    "eta, V = sympy.symbols('eta V')\n",
    "#V = 0"
   ]
  },
  {
   "cell_type": "code",
   "execution_count": 5,
   "id": "a6438abc",
   "metadata": {},
   "outputs": [
    {
     "data": {
      "image/png": "[encoded data removed]",
      "text/latex": [
       "$\\displaystyle \\tau_{q} \\frac{\\partial^{2}}{\\partial t^{2}} T{\\left(x,t \\right)} = \\kappa \\frac{\\partial^{2}}{\\partial x^{2}} T{\\left(x,t \\right)} - \\frac{\\partial}{\\partial t} T{\\left(x,t \\right)}$"
      ],
      "text/plain": [
       "      2                2                       \n",
       "     ∂                ∂             ∂          \n",
       "τ_q⋅───(T(x, t)) = κ⋅───(T(x, t)) - ──(T(x, t))\n",
       "      2                2            ∂t         \n",
       "    ∂t               ∂x                        "
      ]
     },
     "execution_count": 5,
     "metadata": {},
     "output_type": "execute_result"
    }
   ],
   "source": [
    "CattaneoSingle = sympy.Eq(tau_q*T(x,t).diff(t, 2), (kappa*T(x,t).diff(x,2) - T(x,t).diff(t)))\n",
    "CattaneoSingle"
   ]
  },
  {
   "cell_type": "code",
   "execution_count": 6,
   "id": "87eedd81",
   "metadata": {},
   "outputs": [
    {
     "data": {
      "image/png": "[encoded data removed]",
      "text/latex": [
       "$\\displaystyle \\frac{\\partial}{\\partial t} T{\\left(x,t \\right)} = \\kappa \\frac{\\partial^{2}}{\\partial x^{2}} T{\\left(x,t \\right)}$"
      ],
      "text/plain": [
       "                  2         \n",
       "∂                ∂          \n",
       "──(T(x, t)) = κ⋅───(T(x, t))\n",
       "∂t                2         \n",
       "                ∂x          "
      ]
     },
     "execution_count": 6,
     "metadata": {},
     "output_type": "execute_result"
    }
   ],
   "source": [
    "toyheatCElimit = sympy.Eq(T(x,t).diff(t), kappa*T(x,t).diff(x,2))\n",
    "toyheatCElimit"
   ]
  },
  {
   "cell_type": "code",
   "execution_count": 7,
   "id": "85380d44",
   "metadata": {},
   "outputs": [
    {
     "data": {
      "image/png": "[encoded data removed]",
      "text/latex": [
       "$\\displaystyle \\frac{\\partial}{\\partial t} T{\\left(x,t \\right)} = \\kappa^{2} \\tau_{q} \\frac{\\partial^{4}}{\\partial x^{4}} T{\\left(x,t \\right)} + \\kappa \\frac{\\partial^{2}}{\\partial x^{2}} T{\\left(x,t \\right)}$"
      ],
      "text/plain": [
       "                       4                2         \n",
       "∂              2      ∂                ∂          \n",
       "──(T(x, t)) = κ ⋅τ_q⋅───(T(x, t)) + κ⋅───(T(x, t))\n",
       "∂t                     4                2         \n",
       "                     ∂x               ∂x          "
      ]
     },
     "execution_count": 7,
     "metadata": {},
     "output_type": "execute_result"
    }
   ],
   "source": [
    "toyheatCE = sympy.Eq(T(x,t).diff(t), kappa*T(x,t).diff(x,2) + kappa**2*tau_q*T(x,t).diff(x,4))\n",
    "toyheatCE"
   ]
  },
  {
   "cell_type": "code",
   "execution_count": 8,
   "id": "2d532fab",
   "metadata": {},
   "outputs": [
    {
     "name": "stdout",
     "output_type": "stream",
     "text": [
      "Take toyheatCE and make spreading wave substitution\n"
     ]
    }
   ],
   "source": [
    "print(\"Take toyheatCE and make spreading wave substitution\")"
   ]
  },
  {
   "cell_type": "code",
   "execution_count": 9,
   "id": "8f7523fa",
   "metadata": {},
   "outputs": [
    {
     "data": {
      "image/png": "[encoded data removed]",
      "text/latex": [
       "$\\displaystyle \\frac{\\eta \\frac{d}{d \\eta} T{\\left(\\eta \\right)}}{2} + \\kappa^{2} \\frac{d^{4}}{d \\eta^{4}} T{\\left(\\eta \\right)} + \\kappa \\frac{d^{2}}{d \\eta^{2}} T{\\left(\\eta \\right)} = 0$"
      ],
      "text/plain": [
       "  d                                        \n",
       "η⋅──(T(η))        4             2          \n",
       "  dη          2  d             d           \n",
       "────────── + κ ⋅───(T(η)) + κ⋅───(T(η)) = 0\n",
       "    2             4             2          \n",
       "                dη            dη           "
      ]
     },
     "execution_count": 9,
     "metadata": {},
     "output_type": "execute_result"
    }
   ],
   "source": [
    "CE_in_eta = sympy.Eq(kappa**2*T(eta).diff(eta,4) + kappa*T(eta).diff(eta,2) + (eta / 2)*T(eta).diff(eta), 0)\n",
    "CE_in_eta"
   ]
  },
  {
   "cell_type": "code",
   "execution_count": 10,
   "id": "4f83f136",
   "metadata": {},
   "outputs": [
    {
     "data": {
      "image/png": "[encoded data removed]",
      "text/latex": [
       "$\\displaystyle \\left(\\frac{\\eta^{2}}{4} - \\kappa\\right) \\frac{d^{2}}{d \\eta^{2}} T{\\left(\\eta \\right)} = \\frac{\\eta \\frac{d}{d \\eta} T{\\left(\\eta \\right)}}{2}$"
      ],
      "text/plain": [
       "                       d       \n",
       "⎛ 2    ⎞   2         η⋅──(T(η))\n",
       "⎜η     ⎟  d            dη      \n",
       "⎜── - κ⎟⋅───(T(η)) = ──────────\n",
       "⎝4     ⎠   2             2     \n",
       "         dη                    "
      ]
     },
     "execution_count": 10,
     "metadata": {},
     "output_type": "execute_result"
    }
   ],
   "source": [
    "Cat_in_eta = sympy.Eq((eta**2/4 - kappa)*T(eta).diff(eta,2), (eta/2)*T(eta).diff(eta))\n",
    "# Cat_in_eta"
   ]
  },
  {
   "cell_type": "code",
   "execution_count": 48,
   "id": "44af70ac",
   "metadata": {},
   "outputs": [],
   "source": [
    "# sympy.dsolve(CE_in_eta, T(eta), ics={T(-sympy.oo): -1, T(sympy.oo): 1,\n",
    "#                                     T(eta).diff(eta).subs(eta,-sympy.oo) : 0, T(eta).diff(eta).subs(eta,sympy.oo) : 0})"
   ]
  },
  {
   "cell_type": "code",
   "execution_count": 49,
   "id": "14618e90",
   "metadata": {},
   "outputs": [
    {
     "data": {
      "image/png": "[encoded data removed]",
      "text/latex": [
       "$\\displaystyle T{\\left(\\eta \\right)} = C_{1} + C_{2} \\eta \\left(\\frac{\\eta^{2}}{3} - 4 \\kappa\\right)$"
      ],
      "text/plain": [
       "                 ⎛ 2      ⎞\n",
       "                 ⎜η       ⎟\n",
       "T(η) = C₁ + C₂⋅η⋅⎜── - 4⋅κ⎟\n",
       "                 ⎝3       ⎠"
      ]
     },
     "execution_count": 49,
     "metadata": {},
     "output_type": "execute_result"
    }
   ],
   "source": [
    "sympy.dsolve(Cat_in_eta, T(eta))#, ics={T(-sympy.oo): -1, T(sympy.oo): 1,\n",
    "                                 #   T(eta).diff(eta).subs(eta,-sympy.oo) : 0, T(eta).diff(eta).subs(eta,sympy.oo) : 0})"
   ]
  },
  {
   "cell_type": "code",
   "execution_count": 13,
   "id": "4da8deb2",
   "metadata": {},
   "outputs": [
    {
     "name": "stdout",
     "output_type": "stream",
     "text": [
      "Cannot solve neither Cattaneo nor CE for spreading wave ansatz. Now try with travelling wave ansatz\n"
     ]
    }
   ],
   "source": [
    "print(\"Cannot solve neither Cattaneo nor CE for spreading wave ansatz. Now try with travelling wave ansatz\")"
   ]
  },
  {
   "cell_type": "code",
   "execution_count": 14,
   "id": "93028ef7",
   "metadata": {},
   "outputs": [
    {
     "data": {
      "image/png": "[encoded data removed]",
      "text/latex": [
       "$\\displaystyle V \\kappa \\frac{d}{d \\eta} T{\\left(\\eta \\right)} + \\kappa \\frac{d^{2}}{d \\eta^{2}} T{\\left(\\eta \\right)} + \\tau_{q} \\frac{d^{4}}{d \\eta^{4}} T{\\left(\\eta \\right)} = 0$"
      ],
      "text/plain": [
       "                   2               4          \n",
       "    d             d               d           \n",
       "V⋅κ⋅──(T(η)) + κ⋅───(T(η)) + τ_q⋅───(T(η)) = 0\n",
       "    dη             2               4          \n",
       "                 dη              dη           "
      ]
     },
     "execution_count": 14,
     "metadata": {},
     "output_type": "execute_result"
    }
   ],
   "source": [
    "#V = 0 \n",
    "CE_in_V = sympy.Eq(tau_q*T(eta).diff(eta,4) + kappa*T(eta).diff(eta,2) + V*kappa*T(eta).diff(eta), 0)\n",
    "CE_in_V"
   ]
  },
  {
   "cell_type": "code",
   "execution_count": 57,
   "id": "bae30144",
   "metadata": {},
   "outputs": [
    {
     "data": {
      "image/png": "[encoded data removed]",
      "text/latex": [
       "$\\displaystyle T{\\left(\\eta \\right)} = C_{1} + C_{2} e^{\\frac{\\eta \\sqrt[3]{\\kappa} \\left(\\frac{2 \\sqrt[3]{18} \\sqrt[3]{\\kappa}}{\\sqrt[3]{\\tau_{q}} \\sqrt[3]{9 V + \\sqrt{3} \\sqrt{27 V^{2} + \\frac{4 \\kappa}{\\tau_{q}}}}} - \\sqrt[3]{12} \\sqrt[3]{9 V + \\sqrt{3} \\sqrt{27 V^{2} + \\frac{4 \\kappa}{\\tau_{q}}}}\\right)}{6 \\sqrt[3]{\\tau_{q}}}} + C_{3} e^{\\frac{\\eta \\sqrt[3]{\\kappa} \\left(\\frac{8 \\sqrt[3]{18} \\sqrt[3]{\\kappa}}{\\sqrt[3]{\\tau_{q}} \\left(-1 - \\sqrt{3} i\\right) \\sqrt[3]{9 V + \\sqrt{3} \\sqrt{27 V^{2} + \\frac{4 \\kappa}{\\tau_{q}}}}} + \\sqrt[3]{12} \\sqrt[3]{9 V + \\sqrt{3} \\sqrt{27 V^{2} + \\frac{4 \\kappa}{\\tau_{q}}}} + 2^{\\frac{2}{3}} \\cdot 3^{\\frac{5}{6}} i \\sqrt[3]{9 V + \\sqrt{3} \\sqrt{27 V^{2} + \\frac{4 \\kappa}{\\tau_{q}}}}\\right)}{12 \\sqrt[3]{\\tau_{q}}}} + C_{4} e^{\\frac{\\eta \\sqrt[3]{\\kappa} \\left(\\frac{8 \\sqrt[3]{18} \\sqrt[3]{\\kappa}}{\\sqrt[3]{\\tau_{q}} \\left(-1 + \\sqrt{3} i\\right) \\sqrt[3]{9 V + \\sqrt{3} \\sqrt{27 V^{2} + \\frac{4 \\kappa}{\\tau_{q}}}}} + \\sqrt[3]{12} \\sqrt[3]{9 V + \\sqrt{3} \\sqrt{27 V^{2} + \\frac{4 \\kappa}{\\tau_{q}}}} - 2^{\\frac{2}{3}} \\cdot 3^{\\frac{5}{6}} i \\sqrt[3]{9 V + \\sqrt{3} \\sqrt{27 V^{2} + \\frac{4 \\kappa}{\\tau_{q}}}}\\right)}{12 \\sqrt[3]{\\tau_{q}}}}$"
      ],
      "text/plain": [
       "                        ⎛                                                     \n",
       "                        ⎜                3 ____ 3 ___                         \n",
       "                  3 ___ ⎜              2⋅╲╱ 18 ⋅╲╱ κ                 3 ____   \n",
       "                η⋅╲╱ κ ⋅⎜───────────────────────────────────────── - ╲╱ 12 ⋅3 \n",
       "                        ⎜             ____________________________          ╲╱\n",
       "                        ⎜            ╱              _____________             \n",
       "                        ⎜3 _____    ╱              ╱     2   4⋅κ              \n",
       "                        ⎜╲╱ τ_q ⋅3 ╱   9⋅V + √3⋅  ╱  27⋅V  + ───              \n",
       "                        ⎝        ╲╱             ╲╱           τ_q              \n",
       "                ──────────────────────────────────────────────────────────────\n",
       "                                                            3 _____           \n",
       "                                                          6⋅╲╱ τ_q            \n",
       "T(η) = C₁ + C₂⋅ℯ                                                              \n",
       "\n",
       "   ____________________________⎞               ⎛                              \n",
       "  ╱              _____________ ⎟               ⎜                      3 ____ 3\n",
       " ╱              ╱     2   4⋅κ  ⎟         3 ___ ⎜                    8⋅╲╱ 18 ⋅╲\n",
       "╱   9⋅V + √3⋅  ╱  27⋅V  + ───  ⎟       η⋅╲╱ κ ⋅⎜──────────────────────────────\n",
       "             ╲╱           τ_q  ⎟               ⎜                         _____\n",
       "                               ⎟               ⎜                        ╱     \n",
       "                               ⎟               ⎜3 _____                ╱      \n",
       "                               ⎟               ⎜╲╱ τ_q ⋅(-1 - √3⋅ⅈ)⋅3 ╱   9⋅V \n",
       "                               ⎠               ⎝                    ╲╱        \n",
       "────────────────────────────────       ───────────────────────────────────────\n",
       "                                                                              \n",
       "                                                                              \n",
       "                                 + C₃⋅ℯ                                       \n",
       "\n",
       "                                      ____________________________            \n",
       " ___                                 ╱              _____________             \n",
       "╱ κ                       3 ____    ╱              ╱     2   4⋅κ      2/3  5/6\n",
       "─────────────────────── + ╲╱ 12 ⋅3 ╱   9⋅V + √3⋅  ╱  27⋅V  + ───   + 2   ⋅3   \n",
       "_______________________          ╲╱             ╲╱           τ_q              \n",
       "         _____________                                                        \n",
       "        ╱     2   4⋅κ                                                         \n",
       "+ √3⋅  ╱  27⋅V  + ───                                                         \n",
       "     ╲╱           τ_q                                                         \n",
       "──────────────────────────────────────────────────────────────────────────────\n",
       "                                    3 _____                                   \n",
       "                                 12⋅╲╱ τ_q                                    \n",
       "                                                                              \n",
       "\n",
       "        ____________________________⎞               ⎛                         \n",
       "       ╱              _____________ ⎟               ⎜                      3 _\n",
       "      ╱              ╱     2   4⋅κ  ⎟         3 ___ ⎜                    8⋅╲╱ \n",
       "⋅ⅈ⋅3 ╱   9⋅V + √3⋅  ╱  27⋅V  + ───  ⎟       η⋅╲╱ κ ⋅⎜─────────────────────────\n",
       "   ╲╱             ╲╱           τ_q  ⎟               ⎜                         \n",
       "                                    ⎟               ⎜                        ╱\n",
       "                                    ⎟               ⎜3 _____                ╱ \n",
       "                                    ⎟               ⎜╲╱ τ_q ⋅(-1 + √3⋅ⅈ)⋅3 ╱  \n",
       "                                    ⎠               ⎝                    ╲╱   \n",
       "─────────────────────────────────────       ──────────────────────────────────\n",
       "                                                                              \n",
       "                                                                              \n",
       "                                      + C₄⋅ℯ                                  \n",
       "\n",
       "                                           ____________________________       \n",
       "___ 3 ___                                 ╱              _____________        \n",
       "18 ⋅╲╱ κ                       3 ____    ╱              ╱     2   4⋅κ      2/3\n",
       "──────────────────────────── + ╲╱ 12 ⋅3 ╱   9⋅V + √3⋅  ╱  27⋅V  + ───   - 2   \n",
       "____________________________          ╲╱             ╲╱           τ_q         \n",
       "              _____________                                                   \n",
       "             ╱     2   4⋅κ                                                    \n",
       " 9⋅V + √3⋅  ╱  27⋅V  + ───                                                    \n",
       "          ╲╱           τ_q                                                    \n",
       "──────────────────────────────────────────────────────────────────────────────\n",
       "                                         3 _____                              \n",
       "                                      12⋅╲╱ τ_q                               \n",
       "                                                                              \n",
       "\n",
       "             ____________________________⎞\n",
       "            ╱              _____________ ⎟\n",
       "  5/6      ╱              ╱     2   4⋅κ  ⎟\n",
       "⋅3   ⋅ⅈ⋅3 ╱   9⋅V + √3⋅  ╱  27⋅V  + ───  ⎟\n",
       "        ╲╱             ╲╱           τ_q  ⎟\n",
       "                                         ⎟\n",
       "                                         ⎟\n",
       "                                         ⎟\n",
       "                                         ⎠\n",
       "──────────────────────────────────────────\n",
       "                                          \n",
       "                                          \n",
       "                                          "
      ]
     },
     "execution_count": 57,
     "metadata": {},
     "output_type": "execute_result"
    }
   ],
   "source": [
    "sympy.dsolve(CE_in_V, T(eta))#, ics={T(-sympy.oo): -1, T(sympy.oo): 1,\n",
    "                              #      T(eta).diff(eta).subs(eta,-sympy.oo) : 0, T(eta).diff(eta).subs(eta,sympy.oo) : 0})"
   ]
  },
  {
   "cell_type": "code",
   "execution_count": 17,
   "id": "cc94f104",
   "metadata": {},
   "outputs": [
    {
     "data": {
      "image/png": "[encoded data removed]",
      "text/latex": [
       "$\\displaystyle V \\kappa \\frac{d}{d \\eta} T{\\left(\\eta \\right)} + \\left(- V \\tau_{q} + \\kappa\\right) \\frac{d^{2}}{d \\eta^{2}} T{\\left(\\eta \\right)} = 0$"
      ],
      "text/plain": [
       "                              2          \n",
       "    d                        d           \n",
       "V⋅κ⋅──(T(η)) + (-V⋅τ_q + κ)⋅───(T(η)) = 0\n",
       "    dη                        2          \n",
       "                            dη           "
      ]
     },
     "execution_count": 17,
     "metadata": {},
     "output_type": "execute_result"
    }
   ],
   "source": [
    "#V = 0 \n",
    "Cat_in_V = sympy.Eq((kappa - tau_q*V)*T(eta).diff(eta,2) + V*kappa*T(eta).diff(eta), 0)\n",
    "Cat_in_V"
   ]
  },
  {
   "cell_type": "code",
   "execution_count": 56,
   "id": "ce759453",
   "metadata": {},
   "outputs": [
    {
     "data": {
      "image/png": "[encoded data removed]",
      "text/latex": [
       "$\\displaystyle T{\\left(\\eta \\right)} = C_{1} + C_{2} e^{\\frac{3 V \\eta}{V - 3}}$"
      ],
      "text/plain": [
       "                3⋅V⋅η\n",
       "                ─────\n",
       "                V - 3\n",
       "T(η) = C₁ + C₂⋅ℯ     "
      ]
     },
     "execution_count": 56,
     "metadata": {},
     "output_type": "execute_result"
    }
   ],
   "source": [
    "result = sympy.dsolve(Cat_in_V, T(eta))#, ics={T(-sympy.oo): -1, T(sympy.oo): 1})#,\n",
    "#                                     T(eta).diff(eta).subs(eta,-sympy.oo) : 0, T(eta).diff(eta).subs(eta,sympy.oo) : 0})\n",
    "#result.subs(kappa,1).subs(tau_q,1)\n",
    "result.subs(kappa,tau_q).simplify()"
   ]
  },
  {
   "cell_type": "code",
   "execution_count": 19,
   "id": "4c1dbb64",
   "metadata": {},
   "outputs": [
    {
     "name": "stdout",
     "output_type": "stream",
     "text": [
      "Seem to be able to solve this for 2 ICS but the answer has infinities in it!? I'm guessing that just means T(eta)is either infinite or zero, depending on the relative sizes/signs of V, tau_q and kappa\n"
     ]
    }
   ],
   "source": [
    "print(\"Seem to be able to solve this for 2 ICS but the answer has infinities in it!? I'm guessing that just means T(eta)\"\n",
    "\"is either infinite or zero, depending on the relative sizes/signs of V, tau_q and kappa\")"
   ]
  },
  {
   "cell_type": "code",
   "execution_count": 20,
   "id": "9b1ce8bb",
   "metadata": {},
   "outputs": [
    {
     "name": "stdout",
     "output_type": "stream",
     "text": [
      "Going to stop here as we don't expect travelling wave solutions for toy heat anyway...Could perhaps shoot and hope for V=0 but for now I'll go to ToyBulk.\n"
     ]
    }
   ],
   "source": [
    "print(\"Going to stop here as we don't expect travelling wave solutions for toy heat anyway...\"\n",
    "      \"Could perhaps shoot and hope for V=0 but for now I'll go to ToyBulk.\")"
   ]
  },
  {
   "cell_type": "code",
   "execution_count": 40,
   "id": "f682fd3d",
   "metadata": {},
   "outputs": [
    {
     "data": {
      "image/png": "[encoded data removed]",
      "text/latex": [
       "$\\displaystyle \\tau_{q} \\frac{\\partial}{\\partial t} q{\\left(x,t \\right)} = - \\kappa \\frac{\\partial}{\\partial x} T{\\left(x,t \\right)} - q{\\left(x,t \\right)}$"
      ],
      "text/plain": [
       "    ∂                 ∂                    \n",
       "τ_q⋅──(q(x, t)) = - κ⋅──(T(x, t)) - q(x, t)\n",
       "    ∂t                ∂x                   "
      ]
     },
     "execution_count": 40,
     "metadata": {},
     "output_type": "execute_result"
    }
   ],
   "source": [
    "Eq_in_q = sympy.Eq(tau_q*q(x,t).diff(t),(-kappa*T(x,t).diff(x) - q(x,t)))\n",
    "Eq_in_q"
   ]
  },
  {
   "cell_type": "code",
   "execution_count": null,
   "id": "e6a4cbc3",
   "metadata": {},
   "outputs": [],
   "source": [
    "Eq_in_q_V = "
   ]
  },
  {
   "cell_type": "code",
   "execution_count": 43,
   "id": "aeba8adc",
   "metadata": {},
   "outputs": [
    {
     "data": {
      "image/png": "[encoded data removed]",
      "text/latex": [
       "$\\displaystyle \\left( \\left[ \\tau_{q} \\frac{\\partial^{2}}{\\partial t^{2}} T{\\left(x,t \\right)} = \\kappa \\frac{\\partial^{2}}{\\partial x^{2}} T{\\left(x,t \\right)} - \\frac{\\partial}{\\partial t} T{\\left(x,t \\right)}, \\  \\tau_{q} \\frac{\\partial}{\\partial t} q{\\left(x,t \\right)} = - \\kappa \\frac{\\partial}{\\partial x} T{\\left(x,t \\right)} - q{\\left(x,t \\right)}\\right], \\  \\left[ \\frac{\\partial}{\\partial t} T{\\left(x,t \\right)} = \\kappa^{2} \\tau_{q} \\frac{\\partial^{4}}{\\partial x^{4}} T{\\left(x,t \\right)} + \\kappa \\frac{\\partial^{2}}{\\partial x^{2}} T{\\left(x,t \\right)}, \\  \\tau_{q} \\frac{\\partial}{\\partial t} q{\\left(x,t \\right)} = - \\kappa \\frac{\\partial}{\\partial x} T{\\left(x,t \\right)} - q{\\left(x,t \\right)}\\right]\\right)$"
      ],
      "text/plain": [
       "⎛⎡      2                2                                                    \n",
       "⎜⎢     ∂                ∂             ∂                ∂                 ∂    \n",
       "⎜⎢τ_q⋅───(T(x, t)) = κ⋅───(T(x, t)) - ──(T(x, t)), τ_q⋅──(q(x, t)) = - κ⋅──(T(\n",
       "⎜⎢      2                2            ∂t               ∂t                ∂x   \n",
       "⎝⎣    ∂t               ∂x                                                     \n",
       "\n",
       "                ⎤  ⎡                       4                2                 \n",
       "                ⎥  ⎢∂              2      ∂                ∂                ∂ \n",
       "x, t)) - q(x, t)⎥, ⎢──(T(x, t)) = κ ⋅τ_q⋅───(T(x, t)) + κ⋅───(T(x, t)), τ_q⋅──\n",
       "                ⎥  ⎢∂t                     4                2               ∂t\n",
       "                ⎦  ⎣                     ∂x               ∂x                  \n",
       "\n",
       "                                     ⎤⎞\n",
       "                ∂                    ⎥⎟\n",
       "(q(x, t)) = - κ⋅──(T(x, t)) - q(x, t)⎥⎟\n",
       "                ∂x                   ⎥⎟\n",
       "                                     ⎦⎠"
      ]
     },
     "execution_count": 43,
     "metadata": {},
     "output_type": "execute_result"
    }
   ],
   "source": [
    "Cat_sys = [CattaneoSingle, Eq_in_q]\n",
    "CE_sys = [toyheatCE, Eq_in_q]\n",
    "Cat_sys, CE_sys"
   ]
  },
  {
   "cell_type": "code",
   "execution_count": null,
   "id": "b7327b08",
   "metadata": {},
   "outputs": [],
   "source": []
  }
 ],
 "metadata": {
  "kernelspec": {
   "display_name": "Python 3",
   "language": "python",
   "name": "python3"
  },
  "language_info": {
   "codemirror_mode": {
    "name": "ipython",
    "version": 3
   },
   "file_extension": ".py",
   "mimetype": "text/x-python",
   "name": "python",
   "nbconvert_exporter": "python",
   "pygments_lexer": "ipython3",
   "version": "3.8.8"
  }
 },
 "nbformat": 4,
 "nbformat_minor": 5
}
